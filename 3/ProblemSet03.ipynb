{
 "cells": [
  {
   "cell_type": "markdown",
   "metadata": {
    "section": "header"
   },
   "source": [
    "<div style=\"text-align: center;\">\n",
    "<h1>The University of North Carolina at Chapel Hill</h1>\n",
    "<h1>Comp 555 BioAlgorithms - Spring 2018</h1>\n",
    "<h1 style=\"font-size: 250%;\">Problem Set #3 </h1>\n",
    "<h1>Issued Thursday, 3/28/2019; Due Tuesday, 4/9/2019</h1>\n",
    "</div>\n",
    "\n",
    "**Homework Information:** Some of the problems are probably too long to be done the night before the due date, so plan accordingly. Late problem sets will be penalized by a factor of\t70.71% for each class meeting after the due date. Feel free to get help from others, but **the work you submit in should be your own.**\n",
    "\n",
    "**Warning:** This notebook has been annotated with metadata so that it can be uploaded to the grading system. It is very important that you enter your answers in the provided cells. You can add extra cells to explore approaches, but only the provided cell can and will be graded. Thus, if you delete a cell and add a replacement, there is a possiblity that your problem will not be graded. If you ever need to start over, you should download a new version of the problem set and transfer your solutions to it."
   ]
  },
  {
   "cell_type": "code",
   "execution_count": 1,
   "metadata": {
    "section": "signature"
   },
   "outputs": [],
   "source": [
    "# Replace the following string values with the requested information\n",
    "class Student:\n",
    "    first = \"Benjamin\"\n",
    "    last = \"Fawcett\"\n",
    "    onyen = \"bfawcett\"\n",
    "    pid = \"730095208\""
   ]
  },
  {
   "cell_type": "markdown",
   "metadata": {
    "number": 1,
    "section": "problem"
   },
   "source": [
    "---\n",
    "**Problem #1:** Consider the table of integer molecular weights for amino acid residues that we have used in class and is repeated below.\n",
    "\n",
    "        Daltons = { \n",
    "            'A':  71, 'C': 103, 'D': 115, 'E': 129,\n",
    "            'F': 147, 'G':  57, 'H': 137, 'I': 113,\n",
    "            'K': 128, 'L': 113, 'M': 131, 'N': 114,\n",
    "            'P':  97, 'Q': 128, 'R': 156, 'S':  87,\n",
    "            'T': 101, 'V':  99, 'W': 186, 'Y': 163 \n",
    "        }\n",
    "\n",
    "How many peptide *combinations* have a total molecular weight of 2019 and use 14 or fewer residues? A *combination* means that the order of the peptides is unimportant (i.e. \"AKS\" is the same combination as any of \"ASK\", \"KAS\", \"KSA\", \"SAK\", and \"SKA\"). (Hint: This problem takes a while to compute)"
   ]
  },
  {
   "cell_type": "code",
   "execution_count": 2,
   "metadata": {},
   "outputs": [
    {
     "name": "stdout",
     "output_type": "stream",
     "text": [
      "118034\n",
      "CPU times: user 8min 2s, sys: 1.83 s, total: 8min 4s\n",
      "Wall time: 8min 4s\n"
     ]
    }
   ],
   "source": [
    "Daltons = { \n",
    "        'A':  71, 'C': 103, 'D': 115, 'E': 129,\n",
    "        'F': 147, 'G':  57, 'H': 137, 'I': 113,\n",
    "        'K': 128, 'L': 113, 'M': 131, 'N': 114,\n",
    "        'P':  97, 'Q': 128, 'R': 156, 'S':  87,\n",
    "        'T': 101, 'V':  99, 'W': 186, 'Y': 163 \n",
    "    }\n",
    "\n",
    "def subset_sum(starter, numbers, target, maxNum, partial=[]):\n",
    "    global outDict\n",
    "    s = sum(partial)\n",
    "\n",
    "    # check if the partial sum is equals to target\n",
    "    if s == target: \n",
    "        outDict.get(starter).append(partial)\n",
    "    if s >= target:\n",
    "        return # if we reach the number why bother to continue\n",
    "    if len(partial) == maxNum:\n",
    "        return\n",
    "\n",
    "    for i in range(0,len(numbers)):\n",
    "        n = numbers[i]\n",
    "        remaining = numbers[i:]\n",
    "        subset_sum(starter, remaining, target, maxNum, partial + [n])\n",
    "\n",
    "excMasses = []\n",
    "for i in list(Daltons.values()):\n",
    "    if not i in excMasses:\n",
    "        excMasses.append(i)\n",
    "\n",
    "excMasses = sorted(excMasses)\n",
    "        \n",
    "def findMasses(masses, target, maxNum):\n",
    "    global outDict\n",
    "    outDict = {}\n",
    "    for i in masses:\n",
    "        outDict[i] = list([])\n",
    "    for i in range(0,len(masses)):\n",
    "        subset_sum(masses[i], masses[i:], target - masses[i], maxNum - 1)\n",
    "    total = 0\n",
    "\n",
    "    for i in list(outDict.keys()):\n",
    "        for k in outDict.get(i):\n",
    "            num113 = 0\n",
    "            num128 = 0\n",
    "            if (i == 113):\n",
    "                num113 += 1\n",
    "            elif (i == 128):\n",
    "                num128 += 1\n",
    "            for l in k:\n",
    "                if (l == 113):\n",
    "                    num113 += 1\n",
    "                elif (l == 128):\n",
    "                    num128 += 1\n",
    "            w = num113+1\n",
    "            y = num128+1\n",
    "            \n",
    "            total += w*y\n",
    "    return total\n",
    "\n",
    "%time print(findMasses(excMasses, 2019, 14))"
   ]
  },
  {
   "cell_type": "raw",
   "metadata": {
    "number": 1,
    "section": "answer"
   },
   "source": [
    "118034, runtime ~6 mins locally"
   ]
  },
  {
   "cell_type": "markdown",
   "metadata": {
    "number": 2,
    "section": "problem"
   },
   "source": [
    "---\n",
    "**Problem #2:** Generate a list of peptide sequences having the following theoretical spectrum.\n",
    "\n",
    "        P2spectrum = [101, 114, 115, 128, 129, 131, 137, 147, 156, 163, 186, 230, 242, \n",
    "                      259, 264, 271, 284, 294, 300, 301, 315, 319, 333, 373, 393, 415,\n",
    "                      416, 422, 428, 431, 434, 447, 457, 462, 470, 536, 543, 559, 563, \n",
    "                      571, 578, 579, 599, 620, 633, 673, 674, 699, 700, 706, 722, 726, \n",
    "                      734, 762, 764, 820, 830, 837, 859, 862, 863, 892, 893, 974, 993, \n",
    "                      994, 1006, 1021, 1026, 1121, 1122, 1130, 1135, 1156, 1157, 1192, \n",
    "                      1236, 1277, 1285, 1293, 1307, 1321, 1399, 1422, 1436, 1440, 1463, \n",
    "                      1537, 1585, 1592, 1626, 1693, 1700, 1755, 1856, 2019]"
   ]
  },
  {
   "cell_type": "code",
   "execution_count": 3,
   "metadata": {},
   "outputs": [
    {
     "name": "stdout",
     "output_type": "stream",
     "text": [
      "['YRDWNKMYHFWETY', 'YRDWNQMYHFWETY', 'YTEWFHYMKNWDRY', 'YTEWFHYMQNWDRY']\n"
     ]
    }
   ],
   "source": [
    "AminoAcid = {\n",
    "    'A': 'Alanine', 'C': 'Cysteine', 'D': 'Aspartic acid', 'E': 'Glutamic acid',\n",
    "    'F': 'Phenylalanine', 'G': 'Glycine', 'H': 'Histidine', 'I': 'Isoleucine',\n",
    "    'K': 'Lysine', 'L': 'Leucine', 'M': 'Methionine', 'N': 'Asparagine',\n",
    "    'P': 'Proline', 'Q': 'Glutamine', 'R': 'Arginine', 'S': 'Serine',\n",
    "    'T': 'Theronine', 'V': 'Valine', 'W': 'Tryptophan', 'Y': 'Tyrosine',\n",
    "    '*': 'STOP'\n",
    "}\n",
    "\n",
    "AminoAbbrv = {\n",
    "    'A': 'Ala', 'C': 'Cys', 'D': 'Asp', 'E': 'Glu',\n",
    "    'F': 'Phe', 'G': 'Gly', 'H': 'His', 'I': 'Ile',\n",
    "    'K': 'Lys', 'L': 'Leu', 'M': 'Met', 'N': 'Asn',\n",
    "    'P': 'Pro', 'Q': 'Gln', 'R': 'Arg', 'S': 'Ser',\n",
    "    'T': 'Thr', 'V': 'Val', 'W': 'Trp', 'Y': 'Tyr',\n",
    "    '*': 'STP'    \n",
    "}\n",
    "\n",
    "# Here's a new dictionary!\n",
    "Daltons = { \n",
    "    'A':  71, 'C': 103, 'D': 115, 'E': 129,\n",
    "    'F': 147, 'G':  57, 'H': 137, 'I': 113,\n",
    "    'K': 128, 'L': 113, 'M': 131, 'N': 114,\n",
    "    'P':  97, 'Q': 128, 'R': 156, 'S':  87,\n",
    "    'T': 101, 'V':  99, 'W': 186, 'Y': 163 \n",
    "}\n",
    "\n",
    "def UltimatePossiblePeptide(spectrum, prefix=''):\n",
    "    global peptideList\n",
    "    if (len(prefix) == 0):\n",
    "        peptideList = []\n",
    "    current = sum([Daltons[res] for res in prefix])\n",
    "    target = max(spectrum)\n",
    "    if (current == target):\n",
    "        peptideList.append(prefix)\n",
    "    elif (current < target):\n",
    "        for residue in Daltons.keys():\n",
    "            extend = prefix + residue\n",
    "            # test every new suffix created by adding this new reside\n",
    "            # Note: this includes the residue itself as the length 1 suffix\n",
    "            suffix = [extend[i:] for i in range(len(extend))]\n",
    "            for fragment in suffix:\n",
    "                if (sum([Daltons[res] for res in fragment]) not in spectrum):\n",
    "                    break\n",
    "            else:\n",
    "                UltimatePossiblePeptide(spectrum, extend)\n",
    "                \n",
    "                \n",
    "P2spectrum = [101, 114, 115, 128, 129, 131, 137, 147, 156, 163, 186, 230, 242, \n",
    "                  259, 264, 271, 284, 294, 300, 301, 315, 319, 333, 373, 393, 415,\n",
    "                  416, 422, 428, 431, 434, 447, 457, 462, 470, 536, 543, 559, 563, \n",
    "                  571, 578, 579, 599, 620, 633, 673, 674, 699, 700, 706, 722, 726, \n",
    "                  734, 762, 764, 820, 830, 837, 859, 862, 863, 892, 893, 974, 993, \n",
    "                  994, 1006, 1021, 1026, 1121, 1122, 1130, 1135, 1156, 1157, 1192, \n",
    "                  1236, 1277, 1285, 1293, 1307, 1321, 1399, 1422, 1436, 1440, 1463, \n",
    "                  1537, 1585, 1592, 1626, 1693, 1700, 1755, 1856, 2019]\n",
    "\n",
    "\n",
    "UltimatePossiblePeptide(P2spectrum)\n",
    "print(peptideList)"
   ]
  },
  {
   "cell_type": "raw",
   "metadata": {
    "number": 2,
    "section": "answer"
   },
   "source": [
    "['YRDWNKMYHFWETY', 'YRDWNQMYHFWETY', 'YTEWFHYMKNWDRY', 'YTEWFHYMQNWDRY']"
   ]
  },
  {
   "cell_type": "markdown",
   "metadata": {
    "number": 3,
    "section": "problem"
   },
   "source": [
    "---\n",
    "**Problem #3:** Given the following experimental spectrum:\n",
    "\n",
    "        P3spectrum = [87, 113, 114, 128, 147, 156, 163, 204, 243, 244, 259, 266, 270,\n",
    "                      310, 312, 315, 346, 349, 371, 372, 399, 416, 417, 424, 426, 428,\n",
    "                      430, 459, 496, 500, 502, 527, 535, 558, 565, 580, 610, 615, 634, \n",
    "                      641, 645, 658, 660, 682, 687, 696, 736, 771, 772, 774, 788, 801, \n",
    "                      823, 824, 919, 922, 951, 952, 957, 985, 1009, 1032, 1067, 1071, \n",
    "                      1082, 1086, 1108, 1137, 1195, 1218, 1223, 1337, 1347, 1381, 1484, \n",
    "                      1510, 1567, 1647, 1696, 1753, 1833, 1882, 2019]\n",
    "        \n",
    "Give a list of additional molecular wieghts that you would consider adding to this spectrum before attempting to construct the peptide's sequence."
   ]
  },
  {
   "cell_type": "code",
   "execution_count": 4,
   "metadata": {},
   "outputs": [
    {
     "name": "stdout",
     "output_type": "stream",
     "text": [
      "[57, 99, 101, 103, 115, 129, 131, 137, 142, 154, 158, 160, 184, 185, 186, 208, 213, 215, 216, 230, 232, 234, 236, 258, 261, 265, 269, 272, 274, 285, 288, 289, 292, 295, 296, 298, 299, 300, 303, 311, 314, 323, 336, 337, 342, 344, 345, 347, 348, 350, 364, 375, 384, 386, 387, 390, 394, 395, 398, 400, 401, 402, 407, 413, 421, 422, 423, 425, 429, 437, 441, 444, 450, 451, 452, 455, 456, 467, 474, 478, 482, 487, 489, 492, 493, 498, 501, 506, 509, 513, 522, 523, 524, 528, 530, 531, 532, 536, 540, 547, 550, 554, 557, 559, 568, 573, 579, 581, 582, 586, 608, 609, 616, 637, 638, 643, 661, 683, 685, 686, 691, 692, 695, 699, 709, 710, 711, 713, 714, 715, 718, 721, 722, 725, 737, 739, 744, 747, 759, 762, 765, 766, 767, 779, 789, 793, 794, 795, 796, 797, 802, 805, 812, 816, 827, 828, 838, 839, 843, 846, 850, 865, 869, 871, 872, 873, 876, 878, 881, 882, 885, 895, 904, 908, 911, 925, 926, 930, 933, 945, 948, 953, 960, 965, 975, 980, 982, 987, 1010, 1014, 1035, 1037, 1051, 1055, 1058, 1059, 1060, 1062, 1066, 1068, 1081, 1093, 1094, 1095, 1097, 1104, 1110, 1111, 1112, 1131, 1138, 1139, 1143, 1146, 1151, 1161, 1169, 1173, 1174, 1188, 1196, 1200, 1219, 1221, 1224, 1225, 1231, 1234, 1237, 1240, 1241, 1248, 1251, 1253, 1257, 1266, 1267, 1268, 1272, 1275, 1280, 1294, 1297, 1298, 1301, 1306, 1323, 1324, 1325, 1332, 1354, 1363, 1370, 1371, 1374, 1377, 1378, 1380, 1382, 1384, 1385, 1386, 1388, 1396, 1397, 1403, 1404, 1405, 1407, 1409, 1411, 1416, 1417, 1420, 1423, 1426, 1430, 1434, 1437, 1438, 1439, 1441, 1443, 1452, 1453, 1454, 1456, 1458, 1461, 1462, 1465, 1466, 1480, 1483, 1487, 1491, 1492, 1494, 1500, 1509, 1511, 1517, 1518, 1519, 1521, 1523, 1533, 1534, 1536, 1540, 1549, 1560, 1563, 1568, 1570, 1572, 1574, 1582, 1583, 1589, 1590, 1591, 1593, 1595, 1597, 1602, 1603, 1606, 1609, 1612, 1616, 1620, 1623, 1625, 1629, 1638, 1639, 1640, 1648, 1666, 1670, 1673, 1677, 1678, 1686, 1704, 1705, 1707, 1709, 1719, 1720, 1726, 1735, 1746, 1749, 1754, 1760, 1768, 1769, 1775, 1776, 1795, 1815, 1856, 1863, 1872, 1891, 1905, 1906, 1932]\n",
      "370\n"
     ]
    }
   ],
   "source": [
    "P3spectrum = [87, 113, 114, 128, 147, 156, 163, 204, 243, 244, 259, 266, 270,\n",
    "                  310, 312, 315, 346, 349, 371, 372, 399, 416, 417, 424, 426, 428,\n",
    "                  430, 459, 496, 500, 502, 527, 535, 558, 565, 580, 610, 615, 634, \n",
    "                  641, 645, 658, 660, 682, 687, 696, 736, 771, 772, 774, 788, 801, \n",
    "                  823, 824, 919, 922, 951, 952, 957, 985, 1009, 1032, 1067, 1071, \n",
    "                  1082, 1086, 1108, 1137, 1195, 1218, 1223, 1337, 1347, 1381, 1484, \n",
    "                  1510, 1567, 1647, 1696, 1753, 1833, 1882, 2019]\n",
    "\n",
    "\n",
    "def SpectralConvolution(spectrum):\n",
    "    delta = {}\n",
    "    for i in range(len(spectrum)-1):\n",
    "        for j in range(i+1,len(spectrum)):\n",
    "            diff = abs(spectrum[j] - spectrum[i])\n",
    "            delta[diff] = delta.get(diff, 0) + 1\n",
    "    return delta\n",
    "\n",
    "\n",
    "\n",
    "Daltons = { \n",
    "        'A':  71, 'C': 103, 'D': 115, 'E': 129,\n",
    "        'F': 147, 'G':  57, 'H': 137, 'I': 113,\n",
    "        'K': 128, 'L': 113, 'M': 131, 'N': 114,\n",
    "        'P':  97, 'Q': 128, 'R': 156, 'S':  87,\n",
    "        'T': 101, 'V':  99, 'W': 186, 'Y': 163 \n",
    "    }\n",
    "\n",
    "def subset_sum1(starter, numbers, target, maxNum, partial=[]):\n",
    "    global outDict\n",
    "    global keep\n",
    "    s = sum(partial)\n",
    "    \n",
    "    if not keep:\n",
    "        return\n",
    "\n",
    "    # check if the partial sum is equals to target\n",
    "    if s == target: \n",
    "        outDict.get(starter).append(partial)\n",
    "        keep = False\n",
    "    if s >= target:\n",
    "        return # if we reach the number why bother to continue\n",
    "    if len(partial) == maxNum:\n",
    "        return\n",
    "\n",
    "    for i in range(0,len(numbers)):\n",
    "        n = numbers[i]\n",
    "        remaining = numbers[i:]\n",
    "        subset_sum1(starter, remaining, target, maxNum, partial + [n])\n",
    "\n",
    "excMasses = []\n",
    "for i in list(Daltons.values()):\n",
    "    if not i in excMasses:\n",
    "        excMasses.append(i)\n",
    "\n",
    "excMasses = sorted(excMasses)\n",
    "        \n",
    "def findMasses1(masses, target, maxNum):\n",
    "    global outDict\n",
    "    global keep\n",
    "    keep = True\n",
    "    outDict = {}\n",
    "    for i in masses:\n",
    "        outDict[i] = list([])\n",
    "    for i in range(0,len(masses)):\n",
    "        subset_sum1(masses[i], masses[i:], target - masses[i], maxNum - 1)\n",
    "        \n",
    "    return not keep\n",
    "\n",
    "\n",
    "\n",
    "missingMasses = []\n",
    "x = SpectralConvolution(P3spectrum)\n",
    "for i in list(x.keys()):\n",
    "    if x.get(i) >= (2019//57//6-i//57//6) and i not in P3spectrum and i >= 57 and findMasses1(excMasses, i, i//57):\n",
    "        missingMasses.append(i)\n",
    "        \n",
    "        \n",
    "        \n",
    "print(sorted(missingMasses))\n",
    "print(len(missingMasses))"
   ]
  },
  {
   "cell_type": "raw",
   "metadata": {
    "number": 3,
    "section": "answer"
   },
   "source": [
    "I approached this algorithm by using modified spectral deconvolution, where I required shorter missing fragments to be filtered by a requirement of a higher number of hits with the spectral deconvolution, as they are more likely to occur more frequently. The longer fragments can only occur in a more limited number of ways, so the threshold for their inclusion was lowered. The bounds of this threshold were tested by adjusting until individual amino acids passed through the filter, at which case I deemed the sensitivity sufficient. Using this method, I also checked to ensure that the fragments were indeed possible subpeptides (i.e. if 58 were seen in the deconvolution with sufficient hits, this fragment cannot be constructed with individual amino acids, and therefore was excluded from the list. I performed this analysis via a modified algorithm from question 1, to ensure that a mass of x could be constructed with individual amino acids before approving it as a possible missing fragment.\n",
    "\n",
    "[57, 99, 101, 103, 115, 129, 131, 137, 142, 154, 158, 160, 184, 185, 186, 208, 213, 215, 216, 230, 232, 234, 236, 258, 261, 265, 269, 272, 274, 285, 288, 289, 292, 295, 296, 298, 299, 300, 303, 311, 314, 323, 336, 337, 342, 344, 345, 347, 348, 350, 364, 375, 384, 386, 387, 390, 394, 395, 398, 400, 401, 402, 407, 413, 421, 422, 423, 425, 429, 437, 441, 444, 450, 451, 452, 455, 456, 467, 474, 478, 482, 487, 489, 492, 493, 498, 501, 506, 509, 513, 522, 523, 524, 528, 530, 531, 532, 536, 540, 547, 550, 554, 557, 559, 568, 573, 579, 581, 582, 586, 608, 609, 616, 637, 638, 643, 661, 683, 685, 686, 691, 692, 695, 699, 709, 710, 711, 713, 714, 715, 718, 721, 722, 725, 737, 739, 744, 747, 759, 762, 765, 766, 767, 779, 789, 793, 794, 795, 796, 797, 802, 805, 812, 816, 827, 828, 838, 839, 843, 846, 850, 865, 869, 871, 872, 873, 876, 878, 881, 882, 885, 895, 904, 908, 911, 925, 926, 930, 933, 945, 948, 953, 960, 965, 975, 980, 982, 987, 1010, 1014, 1035, 1037, 1051, 1055, 1058, 1059, 1060, 1062, 1066, 1068, 1081, 1093, 1094, 1095, 1097, 1104, 1110, 1111, 1112, 1131, 1138, 1139, 1143, 1146, 1151, 1161, 1169, 1173, 1174, 1188, 1196, 1200, 1219, 1221, 1224, 1225, 1231, 1234, 1237, 1240, 1241, 1248, 1251, 1253, 1257, 1266, 1267, 1268, 1272, 1275, 1280, 1294, 1297, 1298, 1301, 1306, 1323, 1324, 1325, 1332, 1354, 1363, 1370, 1371, 1374, 1377, 1378, 1380, 1382, 1384, 1385, 1386, 1388, 1396, 1397, 1403, 1404, 1405, 1407, 1409, 1411, 1416, 1417, 1420, 1423, 1426, 1430, 1434, 1437, 1438, 1439, 1441, 1443, 1452, 1453, 1454, 1456, 1458, 1461, 1462, 1465, 1466, 1480, 1483, 1487, 1491, 1492, 1494, 1500, 1509, 1511, 1517, 1518, 1519, 1521, 1523, 1533, 1534, 1536, 1540, 1549, 1560, 1563, 1568, 1570, 1572, 1574, 1582, 1583, 1589, 1590, 1591, 1593, 1595, 1597, 1602, 1603, 1606, 1609, 1612, 1616, 1620, 1623, 1625, 1629, 1638, 1639, 1640, 1648, 1666, 1670, 1673, 1677, 1678, 1686, 1704, 1705, 1707, 1709, 1719, 1720, 1726, 1735, 1746, 1749, 1754, 1760, 1768, 1769, 1775, 1776, 1795, 1815, 1856, 1863, 1872, 1891, 1905, 1906, 1932]"
   ]
  },
  {
   "cell_type": "markdown",
   "metadata": {
    "number": 4,
    "section": "problem"
   },
   "source": [
    "---\n",
    "**Problem #4:** The mouse CCAAT Enhancer Binding Protein Beta, *Cebpb*, has the following peptide sequence:\n",
    "\n",
    "        Cebpb = \"MHRLLAWDAACLPPPPAAFRPMEVANFYYEPDCLAYGAKAARAAPRAPAAEPAIGEHERA\" + \\\n",
    "                \"IDFSPYLEPLAPAADFAAPAPAHHDFLSDLFADDYGAKPSKKPADYGYVSLGRAGAKAAP\" + \\\n",
    "                \"PACFPPPPPAALKAEPGFEPADCKRADDAPAMAAGFPFALRAYLGYQATPSGSSGSLSTS\" + \\\n",
    "                \"SSSSPPGTPSPADAKAAPAACFAGPPAAPAKAKAKKTVDKLSDEYKMRRERNNIAVRKSR\" + \\\n",
    "                \"DKAKMRNLETQHKVLELTAENERLQKKVEQLSRELSTLRNLFKQLPEPLLASAGHC\"\n",
    "\n",
    "How many *distinct* subpeptides can the *Cebpb* protein be broken into? How many *distinct* molecular weights appear in its Theoretical Spectrum?"
   ]
  },
  {
   "cell_type": "code",
   "execution_count": 5,
   "metadata": {},
   "outputs": [
    {
     "name": "stdout",
     "output_type": "stream",
     "text": [
      "43460\n",
      "19718\n"
     ]
    }
   ],
   "source": [
    "Cebpb = \"MHRLLAWDAACLPPPPAAFRPMEVANFYYEPDCLAYGAKAARAAPRAPAAEPAIGEHERA\" + \\\n",
    "            \"IDFSPYLEPLAPAADFAAPAPAHHDFLSDLFADDYGAKPSKKPADYGYVSLGRAGAKAAP\" + \\\n",
    "            \"PACFPPPPPAALKAEPGFEPADCKRADDAPAMAAGFPFALRAYLGYQATPSGSSGSLSTS\" + \\\n",
    "            \"SSSSPPGTPSPADAKAAPAACFAGPPAAPAKAKAKKTVDKLSDEYKMRRERNNIAVRKSR\" + \\\n",
    "            \"DKAKMRNLETQHKVLELTAENERLQKKVEQLSRELSTLRNLFKQLPEPLLASAGHC\"\n",
    "\n",
    "\n",
    "\n",
    "def subpeptideCounts(seq):\n",
    "    subpeptideDict = {}\n",
    "    for i in range(1,len(seq)+1):\n",
    "        for j in range(0,len(seq)-i+1):\n",
    "            frag = seq[j:j+i]\n",
    "            subpeptideDict[frag] = subpeptideDict.get(frag,0)+1\n",
    "    return subpeptideDict\n",
    "\n",
    "\n",
    "\n",
    "subpeptidesCebpb = subpeptideCounts(Cebpb)\n",
    "print(len(subpeptidesCebpb.keys()))\n",
    "\n",
    "masses = {}\n",
    "for i in list(subpeptidesCebpb.keys()):\n",
    "    fragMass = sum([Daltons[res] for res in i])\n",
    "    if fragMass in list(masses.keys()):\n",
    "        masses.get(fragMass).append(i)\n",
    "    else:\n",
    "        masses[fragMass] = [i]\n",
    "        \n",
    "print(len(masses.keys()))"
   ]
  },
  {
   "cell_type": "raw",
   "metadata": {
    "number": 4,
    "section": "answer"
   },
   "source": [
    "43460 distinct subpeptides\n",
    "19718 distinct molecular weights"
   ]
  },
  {
   "cell_type": "markdown",
   "metadata": {
    "number": 5,
    "section": "problem"
   },
   "source": [
    "---\n",
    "**Problem #5:** The mouse CCAAT Enhancer Binding Protein Beta, *Cebpb*, has multiple subpeptides with a molecular weight of 2019 Daltons. Find all of them. "
   ]
  },
  {
   "cell_type": "code",
   "execution_count": 6,
   "metadata": {},
   "outputs": [
    {
     "name": "stdout",
     "output_type": "stream",
     "text": [
      "['KAKMRNLETQHKVLELT', 'AWDAACLPPPPAAFRPMEV', 'WDAACLPPPPAAFRPMEVA']\n"
     ]
    }
   ],
   "source": [
    "def subpeptidesOfWeight(peptide, weight):\n",
    "    subpeptides = subpeptideCounts(peptide)\n",
    "    peptidesWithMass = []\n",
    "    for i in subpeptides.keys():\n",
    "        if (sum([Daltons[res] for res in i]) == weight):\n",
    "            peptidesWithMass.append(i)\n",
    "            \n",
    "    return peptidesWithMass\n",
    "\n",
    "\n",
    "\n",
    "print(subpeptidesOfWeight(Cebpb, 2019))"
   ]
  },
  {
   "cell_type": "raw",
   "metadata": {
    "number": 5,
    "section": "answer"
   },
   "source": [
    "['KAKMRNLETQHKVLELT', 'AWDAACLPPPPAAFRPMEV', 'WDAACLPPPPAAFRPMEVA']"
   ]
  },
  {
   "cell_type": "markdown",
   "metadata": {
    "section": "submit"
   },
   "source": [
    "---\n",
    "\n",
    "## Instructions for submitting your problem set\n",
    "\n",
    "When you are ready to submit a version of your problem set, follow the instructions below.\n",
    "\n",
    "1. Press [Save and Checkpoint] on the *File* menu of your Jupyter notebook.\n",
    "2. Press the link below, which will take you to a website for submitting your problem set.\n",
    "3. Choose the ***correct problem set number*** from the pull-down, else you might overwrite an earlier submission.\n",
    "4. Enter in your onyen and PID in the form provided, then upload your submission.\n",
    "\n",
    "Click [here to submit](http://csbio.unc.edu/mcmillan/index.py?run=PS.upload) your completed problem set\n",
    "\n",
    "**Instructions for resubmissions:**\n",
    "\n",
    "1. You may resubmit as many times as you like before the deadline. \n",
    "2. Resubmissions *always* overwrite any earlier submissions. \n",
    "3. If you resubmit after the due date, you will be warned of any penalties. \n",
    "4. Problem sets will not be regraded."
   ]
  }
 ],
 "metadata": {
  "kernelspec": {
   "display_name": "Python 3",
   "language": "python",
   "name": "python3"
  },
  "language_info": {
   "codemirror_mode": {
    "name": "ipython",
    "version": 3
   },
   "file_extension": ".py",
   "mimetype": "text/x-python",
   "name": "python",
   "nbconvert_exporter": "python",
   "pygments_lexer": "ipython3",
   "version": "3.6.5"
  }
 },
 "nbformat": 4,
 "nbformat_minor": 2
}
