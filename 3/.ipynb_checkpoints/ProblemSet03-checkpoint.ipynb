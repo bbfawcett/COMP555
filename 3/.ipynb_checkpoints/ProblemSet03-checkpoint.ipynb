{
 "cells": [
  {
   "cell_type": "markdown",
   "metadata": {
    "section": "header"
   },
   "source": [
    "<div style=\"text-align: center;\">\n",
    "<h1>The University of North Carolina at Chapel Hill</h1>\n",
    "<h1>Comp 555 BioAlgorithms - Spring 2018</h1>\n",
    "<h1 style=\"font-size: 250%;\">Problem Set #3 </h1>\n",
    "<h1>Issued Thursday, 3/28/2019; Due Tuesday, 4/9/2019</h1>\n",
    "</div>\n",
    "\n",
    "**Homework Information:** Some of the problems are probably too long to be done the night before the due date, so plan accordingly. Late problem sets will be penalized by a factor of\t70.71% for each class meeting after the due date. Feel free to get help from others, but **the work you submit in should be your own.**\n",
    "\n",
    "**Warning:** This notebook has been annotated with metadata so that it can be uploaded to the grading system. It is very important that you enter your answers in the provided cells. You can add extra cells to explore approaches, but only the provided cell can and will be graded. Thus, if you delete a cell and add a replacement, there is a possiblity that your problem will not be graded. If you ever need to start over, you should download a new version of the problem set and transfer your solutions to it."
   ]
  },
  {
   "cell_type": "code",
   "execution_count": null,
   "metadata": {
    "section": "signature"
   },
   "outputs": [],
   "source": [
    "# Replace the following string values with the requested information\n",
    "class Student:\n",
    "    first = \"Benjamin\"\n",
    "    last = \"Fawcett\"\n",
    "    onyen = \"bfawcett\"\n",
    "    pid = \"730095208\""
   ]
  },
  {
   "cell_type": "markdown",
   "metadata": {
    "number": 1,
    "section": "problem"
   },
   "source": [
    "---\n",
    "**Problem #1:** Consider the table of integer molecular weights for amino acid residues that we have used in class and is repeated below.\n",
    "\n",
    "        Daltons = { \n",
    "            'A':  71, 'C': 103, 'D': 115, 'E': 129,\n",
    "            'F': 147, 'G':  57, 'H': 137, 'I': 113,\n",
    "            'K': 128, 'L': 113, 'M': 131, 'N': 114,\n",
    "            'P':  97, 'Q': 128, 'R': 156, 'S':  87,\n",
    "            'T': 101, 'V':  99, 'W': 186, 'Y': 163 \n",
    "        }\n",
    "\n",
    "How many peptide *combinations* have a total molecular weight of 2019 and use 14 or fewer residues? A *combination* means that the order of the peptides is unimportant (i.e. \"AKS\" is the same combination as any of \"ASK\", \"KAS\", \"KSA\", \"SAK\", and \"SKA\"). (Hint: This problem takes a while to compute)"
   ]
  },
  {
   "cell_type": "raw",
   "metadata": {
    "number": 1,
    "section": "answer"
   },
   "source": [
    "Enter your answer here."
   ]
  },
  {
   "cell_type": "markdown",
   "metadata": {
    "number": 2,
    "section": "problem"
   },
   "source": [
    "---\n",
    "**Problem #2:** Generate a list of peptide sequences having the following theoretical spectrum.\n",
    "\n",
    "        P2spectrum = [101, 114, 115, 128, 129, 131, 137, 147, 156, 163, 186, 230, 242, \n",
    "                      259, 264, 271, 284, 294, 300, 301, 315, 319, 333, 373, 393, 415,\n",
    "                      416, 422, 428, 431, 434, 447, 457, 462, 470, 536, 543, 559, 563, \n",
    "                      571, 578, 579, 599, 620, 633, 673, 674, 699, 700, 706, 722, 726, \n",
    "                      734, 762, 764, 820, 830, 837, 859, 862, 863, 892, 893, 974, 993, \n",
    "                      994, 1006, 1021, 1026, 1121, 1122, 1130, 1135, 1156, 1157, 1192, \n",
    "                      1236, 1277, 1285, 1293, 1307, 1321, 1399, 1422, 1436, 1440, 1463, \n",
    "                      1537, 1585, 1592, 1626, 1693, 1700, 1755, 1856, 2019]"
   ]
  },
  {
   "cell_type": "code",
   "execution_count": 2,
   "metadata": {},
   "outputs": [],
   "source": [
    "AminoAcid = {\n",
    "    'A': 'Alanine', 'C': 'Cysteine', 'D': 'Aspartic acid', 'E': 'Glutamic acid',\n",
    "    'F': 'Phenylalanine', 'G': 'Glycine', 'H': 'Histidine', 'I': 'Isoleucine',\n",
    "    'K': 'Lysine', 'L': 'Leucine', 'M': 'Methionine', 'N': 'Asparagine',\n",
    "    'P': 'Proline', 'Q': 'Glutamine', 'R': 'Arginine', 'S': 'Serine',\n",
    "    'T': 'Theronine', 'V': 'Valine', 'W': 'Tryptophan', 'Y': 'Tyrosine',\n",
    "    '*': 'STOP'\n",
    "}\n",
    "\n",
    "AminoAbbrv = {\n",
    "    'A': 'Ala', 'C': 'Cys', 'D': 'Asp', 'E': 'Glu',\n",
    "    'F': 'Phe', 'G': 'Gly', 'H': 'His', 'I': 'Ile',\n",
    "    'K': 'Lys', 'L': 'Leu', 'M': 'Met', 'N': 'Asn',\n",
    "    'P': 'Pro', 'Q': 'Gln', 'R': 'Arg', 'S': 'Ser',\n",
    "    'T': 'Thr', 'V': 'Val', 'W': 'Trp', 'Y': 'Tyr',\n",
    "    '*': 'STP'    \n",
    "}\n",
    "\n",
    "# Here's a new dictionary!\n",
    "Daltons = { \n",
    "    'A':  71, 'C': 103, 'D': 115, 'E': 129,\n",
    "    'F': 147, 'G':  57, 'H': 137, 'I': 113,\n",
    "    'K': 128, 'L': 113, 'M': 131, 'N': 114,\n",
    "    'P':  97, 'Q': 128, 'R': 156, 'S':  87,\n",
    "    'T': 101, 'V':  99, 'W': 186, 'Y': 163 \n",
    "}"
   ]
  },
  {
   "cell_type": "code",
   "execution_count": null,
   "metadata": {},
   "outputs": [],
   "source": [
    "def UltimatePossiblePeptide(spectrum, prefix=''):\n",
    "    global peptideList\n",
    "    if (len(prefix) == 0):\n",
    "        peptideList = []\n",
    "    current = sum([Daltons[res] for res in prefix])\n",
    "    target = max(spectrum)\n",
    "    if (current == target):\n",
    "        peptideList.append(prefix)\n",
    "    elif (current < target):\n",
    "        for residue in Daltons.keys():\n",
    "            extend = prefix + residue\n",
    "            # test every new suffix created by adding this new reside\n",
    "            # Note: this includes the residue itself as the length 1 suffix\n",
    "            suffix = [extend[i:] for i in range(len(extend))]\n",
    "            for fragment in suffix:\n",
    "                if (sum([Daltons[res] for res in fragment]) not in spectrum):\n",
    "                    break\n",
    "            else:\n",
    "                UltimatePossiblePeptide(spectrum, extend)"
   ]
  },
  {
   "cell_type": "code",
   "execution_count": null,
   "metadata": {},
   "outputs": [],
   "source": [
    "P2spectrum = [101, 114, 115, 128, 129, 131, 137, 147, 156, 163, 186, 230, 242, \n",
    "                  259, 264, 271, 284, 294, 300, 301, 315, 319, 333, 373, 393, 415,\n",
    "                  416, 422, 428, 431, 434, 447, 457, 462, 470, 536, 543, 559, 563, \n",
    "                  571, 578, 579, 599, 620, 633, 673, 674, 699, 700, 706, 722, 726, \n",
    "                  734, 762, 764, 820, 830, 837, 859, 862, 863, 892, 893, 974, 993, \n",
    "                  994, 1006, 1021, 1026, 1121, 1122, 1130, 1135, 1156, 1157, 1192, \n",
    "                  1236, 1277, 1285, 1293, 1307, 1321, 1399, 1422, 1436, 1440, 1463, \n",
    "                  1537, 1585, 1592, 1626, 1693, 1700, 1755, 1856, 2019]"
   ]
  },
  {
   "cell_type": "code",
   "execution_count": null,
   "metadata": {},
   "outputs": [],
   "source": [
    "UltimatePossiblePeptide(P2spectrum)\n",
    "print(peptideList)"
   ]
  },
  {
   "cell_type": "raw",
   "metadata": {
    "number": 2,
    "section": "answer"
   },
   "source": [
    "Enter you answer here."
   ]
  },
  {
   "cell_type": "markdown",
   "metadata": {
    "number": 3,
    "section": "problem"
   },
   "source": [
    "---\n",
    "**Problem #3:** Given the following experimental spectrum:\n",
    "\n",
    "        P3spectrum = [87, 113, 114, 128, 147, 156, 163, 204, 243, 244, 259, 266, 270,\n",
    "                      310, 312, 315, 346, 349, 371, 372, 399, 416, 417, 424, 426, 428,\n",
    "                      430, 459, 496, 500, 502, 527, 535, 558, 565, 580, 610, 615, 634, \n",
    "                      641, 645, 658, 660, 682, 687, 696, 736, 771, 772, 774, 788, 801, \n",
    "                      823, 824, 919, 922, 951, 952, 957, 985, 1009, 1032, 1067, 1071, \n",
    "                      1082, 1086, 1108, 1137, 1195, 1218, 1223, 1337, 1347, 1381, 1484, \n",
    "                      1510, 1567, 1647, 1696, 1753, 1833, 1882, 2019]\n",
    "        \n",
    "Give a list of additional molecular wieghts that you would consider adding to this spectrum before attempting to construct the peptide's sequence."
   ]
  },
  {
   "cell_type": "code",
   "execution_count": 3,
   "metadata": {},
   "outputs": [],
   "source": [
    "P3spectrum = [87, 113, 114, 128, 147, 156, 163, 204, 243, 244, 259, 266, 270,\n",
    "                  310, 312, 315, 346, 349, 371, 372, 399, 416, 417, 424, 426, 428,\n",
    "                  430, 459, 496, 500, 502, 527, 535, 558, 565, 580, 610, 615, 634, \n",
    "                  641, 645, 658, 660, 682, 687, 696, 736, 771, 772, 774, 788, 801, \n",
    "                  823, 824, 919, 922, 951, 952, 957, 985, 1009, 1032, 1067, 1071, \n",
    "                  1082, 1086, 1108, 1137, 1195, 1218, 1223, 1337, 1347, 1381, 1484, \n",
    "                  1510, 1567, 1647, 1696, 1753, 1833, 1882, 2019]"
   ]
  },
  {
   "cell_type": "code",
   "execution_count": 4,
   "metadata": {},
   "outputs": [
    {
     "name": "stdout",
     "output_type": "stream",
     "text": [
      "83\n"
     ]
    }
   ],
   "source": [
    "print(len(P3spectrum))"
   ]
  },
  {
   "cell_type": "code",
   "execution_count": 5,
   "metadata": {},
   "outputs": [],
   "source": [
    "def PossiblePeptide(prefix, weight):\n",
    "    \"\"\" Brute force method of generating all peptide sequences with a desired weight, the max of a given spectrum \"\"\"\n",
    "    peptides = []\n",
    "    \n",
    "    current = sum([Daltons[res] for res in prefix])\n",
    "    for residue in Daltons.keys():\n",
    "        if (current + Daltons[residue] < weight):\n",
    "            peptides.append(str(prefix + residue))\n",
    "            \n",
    "    return peptides\n",
    "\n",
    "def PossibleFragments(weight):\n",
    "    frags = PossiblePeptide('',weight)\n",
    "    lastfrags = frags\n",
    "    nextfrags = []\n",
    "    look = True\n",
    "    while (look):\n",
    "        for x in lastfrags:\n",
    "            newfrags = PossiblePeptide(x, weight)\n",
    "        \n",
    "            for y in newfrags:\n",
    "                frags.append(y)\n",
    "                nextfrags.append(y)\n",
    "            \n",
    "        if not (len(nextfrags) == 0):\n",
    "            lastfrags = nextfrags\n",
    "            nextfrags = []\n",
    "        else:\n",
    "            look = False\n",
    "            \n",
    "    return frags\n",
    "            \n",
    "\n",
    "def missingMasses(spectrum):\n",
    "    print(type(spectrum))\n",
    "    missing = []\n",
    "    weight = max(spectrum)\n",
    "    spectrum = sorted(spectrum)\n",
    "    x = len(spectrum)\n",
    "    \n",
    "    possible = PossibleFragments(weight)\n",
    "    print(possible)\n",
    "    \n",
    "    for i in range(x-1, 0, -1):\n",
    "        for j in range (i-1, -1, -1):\n",
    "            delta = (spectrum[i] - spectrum[j])\n",
    "            if (delta in possible and delta not in missing and delta not in spectrum):\n",
    "                missing.append(delta)\n",
    "                \n",
    "    return sorted(missing)"
   ]
  },
  {
   "cell_type": "code",
   "execution_count": null,
   "metadata": {},
   "outputs": [
    {
     "name": "stdout",
     "output_type": "stream",
     "text": [
      "<class 'list'>\n"
     ]
    }
   ],
   "source": [
    "print(missingMasses(P3spectrum))"
   ]
  },
  {
   "cell_type": "raw",
   "metadata": {
    "number": 3,
    "section": "answer"
   },
   "source": [
    "Enter your answer here"
   ]
  },
  {
   "cell_type": "markdown",
   "metadata": {
    "number": 4,
    "section": "problem"
   },
   "source": [
    "---\n",
    "**Problem #4:** The mouse CCAAT Enhancer Binding Protein Beta, *Cebpb*, has the following peptide sequence:\n",
    "\n",
    "        Cebpb = \"MHRLLAWDAACLPPPPAAFRPMEVANFYYEPDCLAYGAKAARAAPRAPAAEPAIGEHERA\" + \\\n",
    "                \"IDFSPYLEPLAPAADFAAPAPAHHDFLSDLFADDYGAKPSKKPADYGYVSLGRAGAKAAP\" + \\\n",
    "                \"PACFPPPPPAALKAEPGFEPADCKRADDAPAMAAGFPFALRAYLGYQATPSGSSGSLSTS\" + \\\n",
    "                \"SSSSPPGTPSPADAKAAPAACFAGPPAAPAKAKAKKTVDKLSDEYKMRRERNNIAVRKSR\" + \\\n",
    "                \"DKAKMRNLETQHKVLELTAENERLQKKVEQLSRELSTLRNLFKQLPEPLLASAGHC\"\n",
    "\n",
    "How many *distinct* subpeptides can the *Cebpb* protein be broken into? How many *distinct* molecular weights appear in its Theoretical Spectrum?"
   ]
  },
  {
   "cell_type": "raw",
   "metadata": {
    "number": 4,
    "section": "answer"
   },
   "source": [
    "Enter your answer here"
   ]
  },
  {
   "cell_type": "markdown",
   "metadata": {
    "number": 5,
    "section": "problem"
   },
   "source": [
    "---\n",
    "**Problem #5:** The mouse CCAAT Enhancer Binding Protein Beta, *Cebpb*, has multiple subpeptides with a molecular weight of 2019 Daltons. Find all of them. "
   ]
  },
  {
   "cell_type": "raw",
   "metadata": {
    "number": 5,
    "section": "answer"
   },
   "source": [
    "Enter your answer here"
   ]
  },
  {
   "cell_type": "markdown",
   "metadata": {
    "section": "submit"
   },
   "source": [
    "---\n",
    "\n",
    "## Instructions for submitting your problem set\n",
    "\n",
    "When you are ready to submit a version of your problem set, follow the instructions below.\n",
    "\n",
    "1. Press [Save and Checkpoint] on the *File* menu of your Jupyter notebook.\n",
    "2. Press the link below, which will take you to a website for submitting your problem set.\n",
    "3. Choose the ***correct problem set number*** from the pull-down, else you might overwrite an earlier submission.\n",
    "4. Enter in your onyen and PID in the form provided, then upload your submission.\n",
    "\n",
    "Click [here to submit](http://csbio.unc.edu/mcmillan/index.py?run=PS.upload) your completed problem set\n",
    "\n",
    "**Instructions for resubmissions:**\n",
    "\n",
    "1. You may resubmit as many times as you like before the deadline. \n",
    "2. Resubmissions *always* overwrite any earlier submissions. \n",
    "3. If you resubmit after the due date, you will be warned of any penalties. \n",
    "4. Problem sets will not be regraded."
   ]
  }
 ],
 "metadata": {
  "kernelspec": {
   "display_name": "Python 3",
   "language": "python",
   "name": "python3"
  },
  "language_info": {
   "codemirror_mode": {
    "name": "ipython",
    "version": 3
   },
   "file_extension": ".py",
   "mimetype": "text/x-python",
   "name": "python",
   "nbconvert_exporter": "python",
   "pygments_lexer": "ipython3",
   "version": "3.7.1"
  }
 },
 "nbformat": 4,
 "nbformat_minor": 2
}
