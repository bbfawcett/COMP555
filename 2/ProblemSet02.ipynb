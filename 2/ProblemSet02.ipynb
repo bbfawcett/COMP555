{
 "cells": [
  {
   "cell_type": "markdown",
   "metadata": {
    "section": "header"
   },
   "source": [
    "<div style=\"text-align: center;\">\n",
    "<h1>The University of North Carolina at Chapel Hill</h1>\n",
    "<h1>Comp 555 BioAlgorithms - Spring 2018</h1>\n",
    "<h1 style=\"font-size: 250%;\">Problem Set #2 </h1>\n",
    "<h1>Issued Tuesday, 2/19/2019; Due Tuesday, 3/5/2019</h1>\n",
    "</div>\n",
    "\n",
    "**Homework Information:** Some of the problems are probably too long to be done the night before the due date, so plan accordingly. Late problem sets will be penalized by a factor of\t70.71% for each class meeting after the due date. Feel free to get help from others, but **the work you submit in should be your own.**\n",
    "\n",
    "**Warning:** This notebook has been annotated with metadata so that it can be uploaded to the grading system. It is very important that you enter your answers in the provided cells. You can add extra cells to explore approaches, but only the provided cell can and will be graded. Thus, if you delete a cell and add a replacement, there is a possiblity that your problem will not be graded. If you ever need to start over, you should download a new version of the problem set and transfer your solutions to it."
   ]
  },
  {
   "cell_type": "code",
   "execution_count": 1,
   "metadata": {
    "section": "signature"
   },
   "outputs": [],
   "source": [
    "# Replace the following string values with the requested information\n",
    "class Student:\n",
    "    first = \"Benjamin\"\n",
    "    last = \"Fawcett\"\n",
    "    onyen = \"bfawcett\"\n",
    "    pid = \"730095208\""
   ]
  },
  {
   "cell_type": "markdown",
   "metadata": {
    "section": "setup"
   },
   "source": [
    "You will need three datasets for this problem set. The first is a collection of gene promoter regions in which you will search for <a href=\"http://csbio.unc.edu/mcmillan/Comp555S19/data/motifs.fa\" download=\"motifs.txt\">transcription binding factor motifs</a>. The second is a set of 15 base-pair <a href=\"http://csbio.unc.edu/mcmillan/Comp555S19/data/reads.fa\" download=\"reads.txt\">simulated reads</a> from a genome that will be used for assembly. The third is a small genome that will be used for substring searching <a href=\"http://csbio.unc.edu/mcmillan/Comp555S19/data/GenomeB.fa\" download=\"GenomeB.txt\">GenomeB.fa</a>.\n",
    "\n",
    "The cell below provides various functions and imports necessary for this problem set. Do not import any addtional packages. Also, make sure that you ***run the following cell***."
   ]
  },
  {
   "cell_type": "code",
   "execution_count": 2,
   "metadata": {
    "section": "givencode"
   },
   "outputs": [],
   "source": [
    "import itertools\n",
    "import math\n",
    "%matplotlib inline\n",
    "import matplotlib\n",
    "import matplotlib.pyplot as plt\n",
    "\n",
    "def loadFasta(filename):\n",
    "    \"\"\" Parses a classically formatted and possibly \n",
    "        compressed FASTA file into two lists. One of \n",
    "        headers and a second list of sequences.\n",
    "        The ith index of each list correspond.\"\"\"\n",
    "    if (filename.endswith(\".gz\")):\n",
    "        fp = gzip.open(filename, 'r')\n",
    "    else:\n",
    "        fp = open(filename, 'r')\n",
    "    # split at headers\n",
    "    data = fp.read().split('>')\n",
    "    fp.close()\n",
    "    # ignore whatever appears before the 1st header\n",
    "    data.pop(0)     \n",
    "    headers = []\n",
    "    sequences = []\n",
    "    for sequence in data:\n",
    "        lines = sequence.split('\\n')\n",
    "        headers.append(lines.pop(0))\n",
    "        # add an extra \"+\" to make string \"1-referenced\"\n",
    "        sequences.append('+' + ''.join(lines))\n",
    "    return (headers, sequences)\n",
    "\n",
    "class Graph:\n",
    "    def __init__(self, vlist=[]):\n",
    "        \"\"\" Initialize a Graph with an optional vertex list \"\"\"\n",
    "        self.index = {v:i for i,v in enumerate(vlist)}\n",
    "        self.vertex = {i:v for i,v in enumerate(vlist)}\n",
    "        self.edge = []\n",
    "        self.edgelabel = []\n",
    "    def addVertex(self, label):\n",
    "        \"\"\" Add a labeled vertex to the graph \"\"\"\n",
    "        index = len(self.index)\n",
    "        self.index[label] = index\n",
    "        self.vertex[index] = label\n",
    "    def addEdge(self, vsrc, vdst, label='', repeats=True):\n",
    "        \"\"\" Add a directed edge to the graph, with an optional label. \n",
    "        Repeated edges are distinct, unless repeats is set to False. \"\"\"\n",
    "        e = (self.index[vsrc], self.index[vdst])\n",
    "        if (repeats) or (e not in self.edge):\n",
    "            self.edge.append(e)\n",
    "            self.edgelabel.append(label)\n",
    "    def hamiltonianPath(self):\n",
    "        \"\"\" A Brute-force method for finding a Hamiltonian Path. \n",
    "        Basically, all possible N! paths are enumerated and checked\n",
    "        for edges. Since edges can be reused there are no distictions\n",
    "        made for *which* version of a repeated edge. \"\"\"\n",
    "        for path in itertools.permutations(sorted(self.index.values())):\n",
    "            for i in xrange(len(path)-1):\n",
    "                if ((path[i],path[i+1]) not in self.edge):\n",
    "                    break\n",
    "            else:\n",
    "                return [self.vertex[i] for i in path]\n",
    "        return []\n",
    "    def SearchTree(self, path, verticesLeft):\n",
    "        \"\"\" A recursive Branch-and-Bound Hamiltonian Path search. \n",
    "        Paths are extended one node at a time using only available\n",
    "        edges from the graph. \"\"\"\n",
    "        if (len(verticesLeft) == 0):\n",
    "            self.PathV2result = [self.vertex[i] for i in path]\n",
    "            return True\n",
    "        for v in verticesLeft:\n",
    "            if (len(path) == 0) or ((path[-1],v) in self.edge):\n",
    "                if self.SearchTree(path+[v], [r for r in verticesLeft if r != v]):\n",
    "                    return True\n",
    "        return False\n",
    "    def hamiltonianPathV2(self):\n",
    "        \"\"\" A wrapper function for invoking the Branch-and-Bound \n",
    "        Hamiltonian Path search. \"\"\"\n",
    "        self.PathV2result = []\n",
    "        self.SearchTree([],sorted(self.index.values()))                \n",
    "        return self.PathV2result\n",
    "    def degrees(self):\n",
    "        \"\"\" Returns two dictionaries with the inDegree and outDegree\n",
    "        of each node from the graph. \"\"\"\n",
    "        inDegree = {}\n",
    "        outDegree = {}\n",
    "        for src, dst in self.edge:\n",
    "            outDegree[src] = 0\n",
    "            outDegree[dst] = 0\n",
    "            inDegree[src] = 0\n",
    "            inDegree[dst] = 0\n",
    "            \n",
    "        for src, dst in self.edge:\n",
    "            outDegree[src] = outDegree.get(src) + 1\n",
    "            inDegree[dst] = inDegree.get(dst) + 1\n",
    "            \n",
    "        return inDegree, outDegree\n",
    "    def verifyAndGetStart(self):\n",
    "        inDegree, outDegree = self.degrees()\n",
    "        start = 0\n",
    "        end = 0\n",
    "        for vert in self.vertex.keys():\n",
    "            ins = inDegree.get(vert,0)\n",
    "            outs = outDegree.get(vert,0)\n",
    "            if (ins == outs):\n",
    "                continue\n",
    "            elif (ins - outs == 1):\n",
    "                end = vert\n",
    "            elif (outs - ins == 1):\n",
    "                start = vert\n",
    "            else:\n",
    "                start, end = -1, -1\n",
    "                break\n",
    "        if (start >= 0) and (end >= 0):\n",
    "            return start\n",
    "        else:\n",
    "            return -1\n",
    "    def eulerianPath(self):\n",
    "        graph = [(src,dst) for src,dst in self.edge]\n",
    "        currentVertex = self.verifyAndGetStart()\n",
    "        path = [currentVertex]\n",
    "        # \"next\" is where vertices get inserted into our tour\n",
    "        # it starts at the end (i.e. it is the same as appending),\n",
    "        # but later \"side-trips\" will insert in the middle\n",
    "        next = 1\n",
    "        while len(graph) > 0:\n",
    "            for edge in graph:\n",
    "                if (edge[0] == currentVertex):\n",
    "                    currentVertex = edge[1]\n",
    "                    graph.remove(edge)\n",
    "                    path.insert(next, currentVertex)\n",
    "                    next += 1\n",
    "                    break\n",
    "            else:\n",
    "                for edge in graph:\n",
    "                    try:\n",
    "                        next = path.index(edge[0]) + 1\n",
    "                        currentVertex = edge[0]\n",
    "                        break\n",
    "                    except ValueError:\n",
    "                        continue\n",
    "                else:\n",
    "                    print(\"There is no path!\")\n",
    "                    return False\n",
    "        return path\n",
    "    \n",
    "    \n",
    "    def eulerEdges(self, path):\n",
    "        edgeList = self.vertex.get(path[0])\n",
    "        for i in range(1,len(path)):\n",
    "            edgeList = edgeList + self.vertex.get(path[i])[-1]\n",
    "            \n",
    "        return edgeList\n",
    "    \n",
    "    def render(self, highlightPath=[]):\n",
    "        \"\"\" Outputs a version of the graph that can be rendered\n",
    "        using graphviz tools (http://www.graphviz.org/).\"\"\"\n",
    "        edgeId = {}\n",
    "        for i in xrange(len(self.edge)):\n",
    "            edgeId[self.edge[i]] = edgeId.get(self.edge[i], []) + [i]\n",
    "        edgeSet = set()\n",
    "        for i in xrange(len(highlightPath)-1):\n",
    "            src = self.index[highlightPath[i]]\n",
    "            dst = self.index[highlightPath[i+1]]\n",
    "            edgeSet.add(edgeId[src,dst].pop())\n",
    "        result = ''\n",
    "        result += 'digraph {\\n'\n",
    "        result += '   graph [nodesep=2, size=\"10,10\"];\\n'\n",
    "        for index, label in self.vertex.iteritems():\n",
    "            result += '    N%d [shape=\"box\", style=\"rounded\", label=\"%s\"];\\n' % (index, label)\n",
    "        for i, e in enumerate(self.edge):\n",
    "            src, dst = e\n",
    "            result += '    N%d -> N%d' % (src, dst)\n",
    "            label = self.edgelabel[i]\n",
    "            if (len(label) > 0):\n",
    "                if (i in edgeSet):\n",
    "                    result += ' [label=\"%s\", penwidth=3.0]' % (label)\n",
    "                else:\n",
    "                    result += ' [label=\"%s\"]' % (label)\n",
    "            elif (i in edgeSet):\n",
    "                result += ' [penwidth=3.0]'                \n",
    "            result += ';\\n'                \n",
    "        result += '    overlap=false;\\n'\n",
    "        result += '}\\n'\n",
    "        return result"
   ]
  },
  {
   "cell_type": "markdown",
   "metadata": {
    "number": 1,
    "section": "problem"
   },
   "source": [
    "---\n",
    "**Problem #1:** In the cell below use the *MedianStringMotifSearch()*, and *ScanAndScoreMotif()* functions given in class to find an optimal 8-base motif pattern and its location in each of the 20 given promoter regions in <a href=\"http://csbio.unc.edu/mcmillan/Comp555S19/data/motifs.fa\" download=\"motifs.txt\">motifs.fa</a>. Based on this result, make a prediction of how long it would have taken to find an optimal 10-base motif."
   ]
  },
  {
   "cell_type": "code",
   "execution_count": 3,
   "metadata": {
    "number": 1,
    "section": "workcode"
   },
   "outputs": [
    {
     "name": "stdout",
     "output_type": "stream",
     "text": [
      "CPU times: user 5min 51s, sys: 713 ms, total: 5min 51s\n",
      "Wall time: 5min 53s\n"
     ]
    },
    {
     "data": {
      "text/plain": [
       "([129,\n",
       "  48,\n",
       "  125,\n",
       "  92,\n",
       "  84,\n",
       "  57,\n",
       "  177,\n",
       "  27,\n",
       "  180,\n",
       "  48,\n",
       "  50,\n",
       "  106,\n",
       "  149,\n",
       "  165,\n",
       "  38,\n",
       "  114,\n",
       "  26,\n",
       "  4,\n",
       "  4,\n",
       "  119],\n",
       " 19,\n",
       " 'caccgccc')"
      ]
     },
     "execution_count": 3,
     "metadata": {},
     "output_type": "execute_result"
    }
   ],
   "source": [
    "# copy the MedianStringMotifSearch(), and ScanAndScoreMotif() \n",
    "# functions here and run them using the given code fragment.\n",
    "\n",
    "def ScanAndScoreMotif(DNA, motif):\n",
    "    totalDist = 0\n",
    "    bestAlignment = []\n",
    "    k = len(motif)\n",
    "    for seq in DNA:\n",
    "        minHammingDist = k+1\n",
    "        for s in range(len(seq)-k+1):\n",
    "            HammingDist = sum([1 for i in range(k) if motif[i] != seq[s+i]])\n",
    "            if (HammingDist < minHammingDist):\n",
    "                bestS = s\n",
    "                minHammingDist = HammingDist\n",
    "        bestAlignment.append(bestS)\n",
    "        totalDist += minHammingDist\n",
    "    return bestAlignment, totalDist\n",
    "\n",
    "def MedianStringMotifSearch(DNA,k):\n",
    "    \"\"\" Consider all possible 4**k motifs\"\"\"\n",
    "    bestAlignment = []\n",
    "    minHammingDist = k*len(DNA)\n",
    "    kmer = ''\n",
    "    for pattern in itertools.product('acgt', repeat=k):\n",
    "        motif = ''.join(pattern)\n",
    "        align, dist = ScanAndScoreMotif(DNA, motif)\n",
    "        if (dist < minHammingDist):\n",
    "            bestAlignment = [p for p in align]\n",
    "            minHammingDist = dist\n",
    "            kmer = motif\n",
    "    return bestAlignment, minHammingDist, kmer\n",
    "\n",
    "header, dna = loadFasta(\"data/motifs.fa\")\n",
    "\n",
    "%time MedianStringMotifSearch(dna,8) "
   ]
  },
  {
   "cell_type": "raw",
   "metadata": {
    "number": 1,
    "section": "answer"
   },
   "source": [
    "# THIS CELL WILL BE GRADED. \n",
    "# Copy-and-paste the output from the cell above along with your \n",
    "# prediction of how long it would take to find a 10-base motif.\n",
    "\n",
    "CPU times: user 7min 41s, sys: 887 ms, total: 7min 42s\n",
    "Wall time: 7min 42s\n",
    "([129,\n",
    "  48,\n",
    "  125,\n",
    "  92,\n",
    "  84,\n",
    "  57,\n",
    "  177,\n",
    "  27,\n",
    "  180,\n",
    "  48,\n",
    "  50,\n",
    "  106,\n",
    "  149,\n",
    "  165,\n",
    "  38,\n",
    "  114,\n",
    "  26,\n",
    "  4,\n",
    "  4,\n",
    "  119],\n",
    " 19,\n",
    " 'caccgccc')\n",
    "\n",
    "Based on this data (with an 8-base motif), I would predict that finding a 10 base motif would take 16 times as long (4^(10-8) times), because of the additional two base pairs that each have 4 possible options. This would take then, approximately 2h 3min 12s."
   ]
  },
  {
   "cell_type": "markdown",
   "metadata": {
    "number": 2,
    "section": "problem"
   },
   "source": [
    "---\n",
    "**Problem #2:** A simple optimization can be applied to *MedianStringMotifSearch()* as follows: If ever during the *ScanAndScoreMotif()* function the Hamming distance (i.e. *totalDistance*) exceeds the smallest Hamming distance seen thus far, the scanning through sequences can be terminated early. Implement this strategy and use it to search for the best 10-base motif. (Note: this requires that you do one at least of the following, add an additional argument to the *ScanAndScoreMotif()*, create a global variable shared by both *BetterMedianStringMotifSearch()* and *ScanAndScoreMotif()*, or encapuslate *ScanAndScoreMotif()* as an inner function of *BetterMedianStringMotifSearch()*). Run your new optimized version and report its run time. This optimization is technically not a branch-and-bound strategy; explain why?"
   ]
  },
  {
   "cell_type": "code",
   "execution_count": 4,
   "metadata": {
    "number": 2,
    "section": "workcode"
   },
   "outputs": [
    {
     "name": "stdout",
     "output_type": "stream",
     "text": [
      "CPU times: user 56min 1s, sys: 5.26 s, total: 56min 6s\n",
      "Wall time: 56min 16s\n"
     ]
    },
    {
     "data": {
      "text/plain": [
       "([128,\n",
       "  47,\n",
       "  124,\n",
       "  91,\n",
       "  83,\n",
       "  56,\n",
       "  176,\n",
       "  26,\n",
       "  179,\n",
       "  47,\n",
       "  49,\n",
       "  105,\n",
       "  148,\n",
       "  164,\n",
       "  37,\n",
       "  113,\n",
       "  25,\n",
       "  3,\n",
       "  3,\n",
       "  118],\n",
       " 25,\n",
       " 'tcaccgcccg')"
      ]
     },
     "execution_count": 4,
     "metadata": {},
     "output_type": "execute_result"
    }
   ],
   "source": [
    "# Modify the MedianStringMotifSearch(), and ScanAndScoreMotif() \n",
    "# functions here and run them using the given code fragment.\n",
    "\n",
    "def ScanAndScoreMotif1(DNA, motif, smallest):\n",
    "    totalDist = 0\n",
    "    bestAlignment = []\n",
    "    k = len(motif)\n",
    "    for seq in DNA:\n",
    "        if (totalDist > smallest):\n",
    "            return bestAlignment, totalDist\n",
    "        else:\n",
    "            minHammingDist = k+1\n",
    "            for s in range(len(seq)-k+1):\n",
    "                HammingDist = sum([1 for i in range(k) if motif[i] != seq[s+i]])\n",
    "                if (HammingDist < minHammingDist):\n",
    "                    bestS = s\n",
    "                    minHammingDist = HammingDist\n",
    "            bestAlignment.append(bestS)\n",
    "            totalDist += minHammingDist\n",
    "    return bestAlignment, totalDist\n",
    "\n",
    "def BetterMedianStringMotifSearch(DNA,k):\n",
    "    \"\"\" Consider all possible 4**k motifs\"\"\"\n",
    "    bestAlignment = []\n",
    "    minHammingDist = k*len(DNA)\n",
    "    kmer = ''\n",
    "    for pattern in itertools.product('acgt', repeat=k):\n",
    "        motif = ''.join(pattern)\n",
    "        align, dist = ScanAndScoreMotif1(DNA, motif, minHammingDist)\n",
    "        if (dist < minHammingDist):\n",
    "            bestAlignment = [p for p in align]\n",
    "            minHammingDist = dist\n",
    "            kmer = motif\n",
    "    return bestAlignment, minHammingDist, kmer\n",
    "\n",
    "%time BetterMedianStringMotifSearch(dna,10)"
   ]
  },
  {
   "cell_type": "raw",
   "metadata": {
    "number": 2,
    "section": "answer"
   },
   "source": [
    "# THIS CELL WILL BE GRADED. \n",
    "# Copy-and-paste the output from the cell above. Also, \n",
    "# include your explaination of of this optimzation strategy.\n",
    "\n",
    "This is not a branch-and-bound strategy because it does not rule out any future checks immediately, based on the results of a check that occurs earlier on. This simply ends the check when it is proven to not be optimized, but will not eliminate similarly incorrect checks from being assessed. The only way for it to be a true branch-and-bound method is if there were a \"pruning\" method to eliminate subsequently incorrect analyses, which this algorithm fails to do. My method adds a new argument to the ScanAndScoreMotif function, as the smallest hamming distance that has been seen until that point from BetterMedianStringMotifSearch, and if the net distance for the ScandAndScoreMotif for a particular motif exceeds that, the algorithm is pre-emptively aborted to save time from completing unnecessary computations."
   ]
  },
  {
   "cell_type": "markdown",
   "metadata": {
    "number": 3,
    "section": "problem"
   },
   "source": [
    "---\n",
    "**Problem #3:** The *ContainedMotifSearch()* algortihm from lecture 5 can be used to find a heuristic solution for the motif search problem considerably faster than the *MedianStringMotifSearch()*. However, this solution may not be best overall solution. *ContainedMotifSearch()* can still be used to speed up *MedianStringMotifSearch()* using the following approach: First, use ContainedMotifSearch() to first establish an initial upper-bound for the Hamming distance. Then, use it as an intitial setting of the minimum Hamming distance used in *MedianStringMotifSearch()*. Also, consider how the prefixes of candidate motifs can be used to determine if further extensions might possibly beat the *ContainedMotifSearch()* solution. This last change makes the algorithm truely \"branch-and-bound\" and requires that succesive *patterns* be generated using a different approach than the itertools product used in *MedianStringMotifSearch()*.\n",
    "\n",
    "In the cell provided below write *BestMedianMotifSearch()*."
   ]
  },
  {
   "cell_type": "code",
   "execution_count": 5,
   "metadata": {
    "number": 3,
    "section": "answer"
   },
   "outputs": [],
   "source": [
    "# THIS CELL WILL BE GRADED\n",
    "# This cell should include *ALL* functions called by BestMedianMotifSearch(),\n",
    "# such as ContainedMedianSearch() and ScanAndScoreMotif(). Any test or \n",
    "# validation code should be placed in another cell \n",
    "\n",
    "\n",
    "\n",
    "def ContainedMotifSearch(DNA,k):\n",
    "    \"\"\" Consider only motifs from the given DNA sequences\"\"\"\n",
    "    motifSet = set()\n",
    "    for seq in DNA:\n",
    "        for i in range(len(seq)-k+1):\n",
    "            motifSet.add(seq[i:i+k])\n",
    "    bestAlignment = []\n",
    "    minHammingDist = k*len(DNA)\n",
    "    kmer = ''\n",
    "    for motif in motifSet:\n",
    "        align, dist = ScanAndScoreMotif2(DNA, motif, minHammingDist)\n",
    "        if (dist < minHammingDist):\n",
    "            bestAlignment = [s for s in align]\n",
    "            minHammingDist = dist\n",
    "            kmer = motif\n",
    "    return bestAlignment, minHammingDist, kmer\n",
    "\n",
    "def ScanAndScoreMotif2(DNA, motif, smallest):\n",
    "    totalDist = 0\n",
    "    bestAlignment = []\n",
    "    k = len(motif)\n",
    "    for seq in DNA:\n",
    "        if (totalDist > smallest):\n",
    "            return bestAlignment, totalDist\n",
    "        else:\n",
    "            minHammingDist = k+1\n",
    "            for s in range(len(seq)-k+1):\n",
    "                HammingDist = sum([1 for i in range(k) if motif[i] != seq[s+i]])\n",
    "                if (HammingDist < minHammingDist):\n",
    "                    bestS = s\n",
    "                    minHammingDist = HammingDist\n",
    "            bestAlignment.append(bestS)\n",
    "            totalDist += minHammingDist\n",
    "    return bestAlignment, totalDist\n",
    "\n",
    "def BestMedianMotifSearch(DNA,k):\n",
    "    bestAlignment = []\n",
    "    kmer = ''\n",
    "    # Add your code here\n",
    "    \n",
    "    best, minH, kmr = ContainedMotifSearch(DNA,k)\n",
    "    \n",
    "    minHammingDist = minH\n",
    "    prefixes = ['a','c','g','t']\n",
    "    bases = ['a','c','g','t']\n",
    "    \n",
    "    for i in range (2,k):\n",
    "        newprefixes = []\n",
    "        for j in prefixes:\n",
    "            for k in bases:\n",
    "                motif = j+k\n",
    "                align, dist = ScanAndScoreMotif2(DNA, motif, minHammingDist)\n",
    "                if (dist <= minHammingDist):\n",
    "                    newprefixes.append(motif)\n",
    "        prefixes = newprefixes\n",
    "        \n",
    "    for i in prefixes:\n",
    "        for j in bases:\n",
    "            motif = i+j\n",
    "            align, dist = ScanAndScoreMotif2(DNA, motif, minHammingDist)\n",
    "            if (dist < minHammingDist):\n",
    "                bestAlignment = [s for s in align]\n",
    "                minHammingDist = dist\n",
    "                kmer = motif\n",
    "    return bestAlignment, minHammingDist, kmer"
   ]
  },
  {
   "cell_type": "markdown",
   "metadata": {},
   "source": [
    "The following cell below is provided for testing your code. You should test it on <a href=\"http://csbio.unc.edu/mcmillan/Comp555S19/data/motifs.fa\" download=\"motifs.txt\">motifs.fa</a>. This cell will not be considered during grading."
   ]
  },
  {
   "cell_type": "code",
   "execution_count": 6,
   "metadata": {
    "number": 3,
    "section": "workcode"
   },
   "outputs": [
    {
     "name": "stdout",
     "output_type": "stream",
     "text": [
      "CPU times: user 2min 21s, sys: 159 ms, total: 2min 21s\n",
      "Wall time: 2min 21s\n"
     ]
    },
    {
     "data": {
      "text/plain": [
       "([128,\n",
       "  47,\n",
       "  124,\n",
       "  91,\n",
       "  83,\n",
       "  56,\n",
       "  176,\n",
       "  26,\n",
       "  179,\n",
       "  47,\n",
       "  49,\n",
       "  105,\n",
       "  148,\n",
       "  164,\n",
       "  37,\n",
       "  113,\n",
       "  25,\n",
       "  3,\n",
       "  3,\n",
       "  118],\n",
       " 25,\n",
       " 'tcaccgcccg')"
      ]
     },
     "execution_count": 6,
     "metadata": {},
     "output_type": "execute_result"
    }
   ],
   "source": [
    "header, dna = loadFasta(\"data/motifs.fa\")\n",
    "%time BestMedianMotifSearch(dna,10)"
   ]
  },
  {
   "cell_type": "markdown",
   "metadata": {
    "number": 4,
    "section": "problem"
   },
   "source": [
    "**Problem #4:** A file of 15-mers simulating short reads from a genome can be <a href=\"http://csbio.unc.edu/mcmillan/Comp555S19/data/reads.fa\" download=\"reads.txt\">downloaded here</a>. How many distinct nodes appear in the De Bruijn graph that represents these 15-mers as edges? How many nodes are semi-balenced? How many nodes are balanced? How many are balanced with both in-degrees and out-degrees equal to 1?"
   ]
  },
  {
   "cell_type": "code",
   "execution_count": 7,
   "metadata": {
    "number": 4,
    "section": "workcode"
   },
   "outputs": [
    {
     "name": "stdout",
     "output_type": "stream",
     "text": [
      "Number of Nodes =  98450\n",
      "81230\n",
      "GTTATACAGAGA\n",
      "84773\n",
      "GTGAGGATATAT\n",
      "Number of semi-balanced nodes =  2\n",
      "Number of balanced nodes =  98448\n",
      "Number of balanced nodes with 1 in and out =  97044\n",
      "Eulerian path start =  GTGAGGATATAT\n"
     ]
    }
   ],
   "source": [
    "# This cell is provided for your own use in answering problem 4. It will not be graded.\n",
    "def debruijn(dna):\n",
    "    nodes = []\n",
    "    for seq in dna:\n",
    "        b = seq[1:-1]\n",
    "        e = seq[2:]\n",
    "        if not b in nodes:\n",
    "            nodes.append(b)\n",
    "        if not e in nodes:\n",
    "            nodes.append(e)\n",
    "\n",
    "    G1 = Graph(nodes)\n",
    "    for seq in dna:\n",
    "        b = seq[1:-1]\n",
    "        e = seq[2:]\n",
    "        \n",
    "        G1.addEdge(b, e)\n",
    "    \n",
    "    print(\"Number of Nodes = \", len(nodes))\n",
    "    \n",
    "    indeg, outdeg = G1.degrees()\n",
    "    \n",
    "    semi = 0\n",
    "    for x in indeg.keys():\n",
    "        if (indeg.get(x) - outdeg.get(x)) in [1,-1]:\n",
    "            semi += 1\n",
    "            print(x)\n",
    "            print(G1.vertex.get(x))\n",
    "    \n",
    "    print(\"Number of semi-balanced nodes = \", semi)\n",
    "    \n",
    "    \n",
    "    bal = 0\n",
    "    for x in indeg.keys():\n",
    "        if (indeg.get(x) - outdeg.get(x)) == 0:\n",
    "            bal += 1\n",
    "            \n",
    "    print(\"Number of balanced nodes = \", bal)\n",
    "    \n",
    "    \n",
    "    exc = 0\n",
    "    for x in indeg.keys():\n",
    "        if ((indeg.get(x) - outdeg.get(x)) == 0) and (indeg.get(x) == 1):\n",
    "            exc += 1\n",
    "            \n",
    "    print(\"Number of balanced nodes with 1 in and out = \", exc)\n",
    "    \n",
    "    path = G1.eulerianPath()\n",
    "    \n",
    "    print(\"Eulerian path start = \", G1.vertex.get(path[0]))\n",
    "    pathString = G1.eulerEdges(path)\n",
    "    \n",
    "    return pathString\n",
    "\n",
    "header, dna = loadFasta(\"data/reads.fa\")\n",
    "eulerPath = debruijn(dna)"
   ]
  },
  {
   "cell_type": "raw",
   "metadata": {
    "number": 4,
    "section": "answer"
   },
   "source": [
    "# Enter your answers here.\n",
    "# THIS CELL WILL BE GRADED. \n",
    "\n",
    "There are 98,450 distinct nodes in the De Bruijn graph, with 2 semi-balanced (start and end), 98,448 balanced (middle section), and 97,044 with both the in and out-degrees equal to 1."
   ]
  },
  {
   "cell_type": "markdown",
   "metadata": {
    "number": 5,
    "section": "problem"
   },
   "source": [
    "**Problem #5:** What is the length of the Eulerian path that can be constructed in the De Bruijn graph described in Problem #4? It should be an assembled contig from the genome <a href=\"http://csbio.unc.edu/mcmillan/Comp555S19/data/GenomeB.fa\" download=\"GenomeB.txt\">GenomeB.fa</a>. Find the starting position of this assembled sequence in that genome."
   ]
  },
  {
   "cell_type": "code",
   "execution_count": 8,
   "metadata": {
    "number": 5,
    "section": "workcode"
   },
   "outputs": [
    {
     "name": "stdout",
     "output_type": "stream",
     "text": [
      "Eulerian path is of length =  100000\n",
      "\n",
      "540000 - 549999 : 5956\n",
      "550000 - 559999 : 9150\n",
      "560000 - 569999 : 9173\n",
      "570000 - 579999 : 9101\n",
      "580000 - 589999 : 9095\n",
      "590000 - 599999 : 8792\n",
      "600000 - 609999 : 9311\n",
      "610000 - 619999 : 9274\n",
      "620000 - 629999 : 9201\n",
      "630000 - 639999 : 9034\n",
      "640000 - 649999 : 3186\n",
      "790000 - 799999 : 83\n",
      "800000 - 809999 : 11\n",
      "810000 - 819999 : 334\n",
      "1780000 - 1789999 : 30\n",
      "\n",
      "Starting position = 543528\n",
      "\n",
      "First 77 bases in Euler path contig found accurately in genome B.\n"
     ]
    },
    {
     "data": {
      "image/png": "[encoded data removed]",
      "text/plain": [
       "<Figure size 2400x700 with 1 Axes>"
      ]
     },
     "metadata": {
      "needs_background": "light"
     },
     "output_type": "display_data"
    }
   ],
   "source": [
    "# This cell is provided for your own use in answering problem 5. It will not be graded.\n",
    "header, dna = loadFasta(\"data/GenomeB.fa\")\n",
    "dna = dna[0]\n",
    "\n",
    "print(\"Eulerian path is of length = \", len(eulerPath))\n",
    "print()\n",
    "\n",
    "kmers = set()\n",
    "k = 25\n",
    "for i in range(len(eulerPath)-k+1):\n",
    "    kmers.add(eulerPath[i:i+k])\n",
    "    \n",
    "kmerInGenome = []\n",
    "for i in range(len(dna)-k+1):\n",
    "    kmerInGenome.append(int(dna[i:i+k] in kmers))\n",
    "    \n",
    "x = []\n",
    "y = []\n",
    "for s in range(0, len(dna), 10000):\n",
    "    x.append(s)\n",
    "    y.append(sum(kmerInGenome[s:s+10000]))\n",
    "    if(sum(kmerInGenome[s:s+10000]) > 0):\n",
    "        print(s, \"-\", s+9999, \":\", sum(kmerInGenome[s:s+10000]))\n",
    "        \n",
    "        \n",
    "print()\n",
    "start = 0\n",
    "\n",
    "for i in range(len(dna)-k+1):\n",
    "    if(dna[i:i+k] == eulerPath[0:k]):\n",
    "        start = i\n",
    "        print(\"Starting position =\", i)\n",
    "\n",
    "count = 0\n",
    "for i in range(len(eulerPath)):\n",
    "    if(dna[start+i] == eulerPath[i]):\n",
    "        count += 1\n",
    "    else:\n",
    "        break\n",
    "\n",
    "print()\n",
    "print(\"First\", count, \"bases in Euler path contig found accurately in genome B.\")\n",
    "    \n",
    "plt.figure(num=None, figsize=(24, 7), dpi=100)\n",
    "plt.title(\"25-mer Hits per 10,000bp in Genome B\", fontdict=None, loc='center', pad=None)\n",
    "result = plt.plot(x, y)"
   ]
  },
  {
   "cell_type": "raw",
   "metadata": {
    "number": 5,
    "section": "answer"
   },
   "source": [
    "# Enter your answers here.\n",
    "# THIS CELL WILL BE GRADED.\n",
    "\n",
    "The Eulerian path is 100,000 bp long, and begins 543,528 bp into the genome. The contig would be generally found in the 540,000 to 650,000 bp range. "
   ]
  },
  {
   "cell_type": "markdown",
   "metadata": {},
   "source": [
    "---\n",
    "\n",
    "## Instructions for submitting your problem set\n",
    "\n",
    "When you are ready to submit a version of your problem set, follow the instructions below.\n",
    "\n",
    "1. Press [Save and Checkpoint] on the *File* menu of your Jupyter notebook.\n",
    "2. Press the link below, which will take you to a website for submitting your problem set.\n",
    "3. Choose the ***correct problem set number*** from the pull-down, else you might overwrite an earlier submission.\n",
    "4. Enter in your onyen and PID in the form provided, then upload your submission.\n",
    "\n",
    "Click [here to submit](http://csbio.unc.edu/mcmillan/index.py?run=PS.upload) your completed problem set\n",
    "\n",
    "**Instructions for resubmissions:**\n",
    "\n",
    "1. You may resubmit as many times as you like before the deadline. \n",
    "2. Resubmissions *always* overwrite any earlier submissions. \n",
    "3. If you resubmit after the due date, you will be warned of any penalties. \n",
    "4. Problem sets will not be regraded."
   ]
  }
 ],
 "metadata": {
  "kernelspec": {
   "display_name": "Python 3",
   "language": "python",
   "name": "python3"
  },
  "language_info": {
   "codemirror_mode": {
    "name": "ipython",
    "version": 3
   },
   "file_extension": ".py",
   "mimetype": "text/x-python",
   "name": "python",
   "nbconvert_exporter": "python",
   "pygments_lexer": "ipython3",
   "version": "3.7.1"
  }
 },
 "nbformat": 4,
 "nbformat_minor": 1
}
