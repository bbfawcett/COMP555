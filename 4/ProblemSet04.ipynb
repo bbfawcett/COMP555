{
 "cells": [
  {
   "cell_type": "markdown",
   "metadata": {
    "section": "header"
   },
   "source": [
    "---\n",
    "<div style=\"text-align: center;\">\n",
    "<h1>The University of North Carolina at Chapel Hill</h1>\n",
    "<h1>Comp 555 BioAlgorithms - Spring 2019</h1>\n",
    "<h1 style=\"font-size: 250%;\">Problem Set #4, Version 2.0</h1>\n",
    "<h1>Issued Tuesday 4/9/2019; Due Tuesday, 4/23/2019</h1>\n",
    "</div>\n",
    "\n",
    "**Homework Information:** Some of the problems are probably too long to be done the night before the due date, so plan accordingly. Late problem sets will be penalized by a factor of\t70.71% for each class meeting after the due date. Feel free to get help from others, but the work you submit in should be your own."
   ]
  },
  {
   "cell_type": "code",
   "execution_count": 1,
   "metadata": {
    "section": "signature"
   },
   "outputs": [],
   "source": [
    "# Replace the following string values with the requested information\n",
    "class Student:\n",
    "    first = \"Benjamin\"\n",
    "    last = \"Fawcett\"\n",
    "    onyen = \"bfawcett\"\n",
    "    pid = \"730095208\""
   ]
  },
  {
   "cell_type": "code",
   "execution_count": 2,
   "metadata": {},
   "outputs": [],
   "source": [
    "import gzip\n",
    "import itertools\n",
    "import math\n",
    "%matplotlib inline\n",
    "import matplotlib\n",
    "import matplotlib.pyplot as plt\n",
    "\n",
    "def loadFasta(filename):\n",
    "    \"\"\" Parses a classically formatted and possibly \n",
    "        compressed FASTA file into two lists. One of \n",
    "        headers and a second list of sequences.\n",
    "        The ith index of each list correspond.\"\"\"\n",
    "    if (filename.endswith(\".gz\")):\n",
    "        fp = gzip.open(filename, 'r')\n",
    "    else:\n",
    "        fp = open(filename, 'r')\n",
    "    # split at headers\n",
    "    data = fp.read().split('\\n')\n",
    "    fp.close()\n",
    "    # ignore whatever appears before the 1st header\n",
    "    sequences = []\n",
    "    for sequence in data:\n",
    "        # add an extra \"+\" to make string \"1-referenced\"\n",
    "        sequences.append(''.join(sequence))\n",
    "    return sequences"
   ]
  },
  {
   "cell_type": "markdown",
   "metadata": {
    "number": 1,
    "section": "problem"
   },
   "source": [
    "---\n",
    "**Problem #1:** Of the 10 sequences provided [*here*](https://csbio.unc.edu/mcmillan/Comp555S19/data/PS4.fa), find the 3 sequences that maximize the sum of their Pairwise Global Alignments. Assume a weight of 1 for all *matches* and -1 for all *mismatches and indels* in your alignment. (Note: you only need to find the best score here, not the alignment, thus you do not need the backtracking matrix).\n",
    "\n",
    "Report the *index* of the 3 sequences and the three alignment scores between them as a comma separated list with three rows of three numbers in the following format:\n",
    "\n",
    "        seqIndexA, seqIndexB, AB_AlignmentScore\n",
    "        seqIndexA, seqIndexC, AC_AlignmentScore\n",
    "        seqIndexB, seqIndexC, BC_AlignmentScore"
   ]
  },
  {
   "cell_type": "code",
   "execution_count": 3,
   "metadata": {},
   "outputs": [],
   "source": [
    "sequence = loadFasta(\"/Users/bbfawcett13/Documents/UNC-CH/S 2019/COMP 555/Homework/4/PS4.fa\")"
   ]
  },
  {
   "cell_type": "code",
   "execution_count": 16,
   "metadata": {},
   "outputs": [
    {
     "name": "stdout",
     "output_type": "stream",
     "text": [
      "Best score = 12\n"
     ]
    }
   ],
   "source": [
    "import numpy\n",
    "\n",
    "def GlobalAlign(v, w, scorematrix, indel):\n",
    "    s = numpy.zeros((len(v)+1,len(w)+1), dtype=\"int32\")\n",
    "    for i in range(0,len(v)+1):\n",
    "        for j in range(0,len(w)+1):\n",
    "            if (j == 0):\n",
    "                if (i > 0):\n",
    "                    s[i,j] = s[i-1,j] + indel\n",
    "                continue\n",
    "            if (i == 0):\n",
    "                s[i,j] = s[i,j-1] + indel\n",
    "                continue\n",
    "            score = s[i-1,j-1] + scorematrix[v[i-1],w[j-1]]\n",
    "            vskip = s[i-1,j] + indel\n",
    "            wskip = s[i,j-1] + indel\n",
    "            s[i,j] = max(vskip, wskip, score)\n",
    "    return s\n",
    "\n",
    "match = {('A','A'):  1, ('A','C'): -1, ('A','G'): -1, ('A','T'): -1,\n",
    "         ('C','A'): -1, ('C','C'):  1, ('C','G'): -1, ('C','T'): -1,\n",
    "         ('G','A'): -1, ('G','C'): -1, ('G','G'):  1, ('G','T'): -1,\n",
    "         ('T','A'): -1, ('T','C'): -1, ('T','G'): -1, ('T','T'):  1}\n",
    "\n",
    "v = \"TTCCGAGCGTTT\"\n",
    "w = \"TTCCGAGCGTTT\"\n",
    "\n",
    "s = GlobalAlign(v,w,match,-1)\n",
    "print(\"Best score =\", s[-1,-1])"
   ]
  },
  {
   "cell_type": "code",
   "execution_count": null,
   "metadata": {},
   "outputs": [],
   "source": [
    "v = \"ATGTCAGAAATCATGAGCAATACAGCCAGGGTCAAC\"\n",
    "w = \"CATCAGAAATCAGAGCAAGACAAATACAGCCAGGGC\""
   ]
  },
  {
   "cell_type": "code",
   "execution_count": 28,
   "metadata": {},
   "outputs": [
    {
     "name": "stdout",
     "output_type": "stream",
     "text": [
      "7477\n"
     ]
    }
   ],
   "source": [
    "print(len(sequence[0]))"
   ]
  },
  {
   "cell_type": "code",
   "execution_count": 27,
   "metadata": {},
   "outputs": [
    {
     "name": "stdout",
     "output_type": "stream",
     "text": [
      "CPU times: user 28.2 s, sys: 22 ms, total: 28.3 s\n",
      "Wall time: 28.3 s\n"
     ]
    }
   ],
   "source": [
    "%time s = GlobalAlign(sequence[0][0:2000], sequence[1][0:2000], match, -1)"
   ]
  },
  {
   "cell_type": "code",
   "execution_count": 29,
   "metadata": {},
   "outputs": [
    {
     "name": "stdout",
     "output_type": "stream",
     "text": [
      "0 1\n",
      "0 2\n",
      "0 3\n",
      "0 4\n",
      "0 5\n",
      "0 6\n",
      "0 7\n",
      "0 8\n",
      "0 9\n",
      "1 2\n",
      "1 3\n",
      "1 4\n",
      "1 5\n",
      "1 6\n",
      "1 7\n",
      "1 8\n",
      "1 9\n",
      "2 3\n",
      "2 4\n",
      "2 5\n",
      "2 6\n",
      "2 7\n",
      "2 8\n",
      "2 9\n",
      "3 4\n",
      "3 5\n",
      "3 6\n",
      "3 7\n",
      "3 8\n",
      "3 9\n",
      "4 5\n",
      "4 6\n",
      "4 7\n",
      "4 8\n",
      "4 9\n",
      "5 6\n",
      "5 7\n",
      "5 8\n",
      "5 9\n",
      "6 7\n",
      "6 8\n",
      "6 9\n",
      "7 8\n",
      "7 9\n",
      "8 9\n"
     ]
    }
   ],
   "source": [
    "alignmentDict = {}\n",
    "for i in range(0,len(sequence)):\n",
    "    for j in range(i+1, len(sequence)):\n",
    "        print(i,j)\n",
    "        s = GlobalAlign(sequence[i], sequence[j], match, -1)\n",
    "        alignmentDict[(i, j)] = s[-1,-1]"
   ]
  },
  {
   "cell_type": "code",
   "execution_count": 37,
   "metadata": {},
   "outputs": [
    {
     "name": "stdout",
     "output_type": "stream",
     "text": [
      "(0, 1) 7463\n",
      "(0, 2) 7443\n",
      "(1, 2) 7433\n"
     ]
    }
   ],
   "source": [
    "indices = range(0, len(sequence))\n",
    "x = [index for index in itertools.combinations(indices, 3)]\n",
    "maxSum = 0\n",
    "bestIndices = ()\n",
    "for i in x:\n",
    "    sumI = 0\n",
    "    sumI += alignmentDict.get((i[0], i[1])) + alignmentDict.get((i[0], i[2])) + alignmentDict.get((i[1], i[2]))\n",
    "    if (sumI > maxSum):\n",
    "        maxSum = sumI\n",
    "        bestIndices = i\n",
    "        \n",
    "print((bestIndices[0], bestIndices[1]), alignmentDict.get((bestIndices[0], bestIndices[1]))) \n",
    "print((bestIndices[0], bestIndices[2]), alignmentDict.get((bestIndices[0], bestIndices[2])))\n",
    "print((bestIndices[1], bestIndices[2]), alignmentDict.get((bestIndices[1], bestIndices[2])))"
   ]
  },
  {
   "cell_type": "code",
   "execution_count": 35,
   "metadata": {},
   "outputs": [
    {
     "name": "stdout",
     "output_type": "stream",
     "text": [
      "{(0, 1): 7463, (0, 2): 7443, (0, 3): 7009, (0, 4): 6872, (0, 5): 6849, (0, 6): 7177, (0, 7): 7097, (0, 8): 7107, (0, 9): 7337, (1, 2): 7433, (1, 3): 6995, (1, 4): 6858, (1, 5): 6835, (1, 6): 7163, (1, 7): 7083, (1, 8): 7093, (1, 9): 7327, (2, 3): 6994, (2, 4): 6865, (2, 5): 6843, (2, 6): 7159, (2, 7): 7092, (2, 8): 7106, (2, 9): 7314, (3, 4): 6789, (3, 5): 6843, (3, 6): 6971, (3, 7): 7009, (3, 8): 7024, (3, 9): 6951, (4, 5): 6740, (4, 6): 6854, (4, 7): 7078, (4, 8): 7106, (4, 9): 6832, (5, 6): 6832, (5, 7): 6949, (5, 8): 6958, (5, 9): 6802, (6, 7): 7078, (6, 8): 7080, (6, 9): 7110, (7, 8): 7296, (7, 9): 7045, (8, 9): 7050}\n"
     ]
    }
   ],
   "source": [
    "print(alignmentDict)"
   ]
  },
  {
   "cell_type": "raw",
   "metadata": {
    "number": 1,
    "section": "answer"
   },
   "source": [
    "0, 1, 7463\n",
    "0, 2, 7443\n",
    "1, 2, 7433"
   ]
  },
  {
   "cell_type": "markdown",
   "metadata": {
    "number": 2,
    "section": "problem"
   },
   "source": [
    "---\n",
    "**Problem #2:** The sequences from problem one are from endogenous retroviruses (ERVs). ERVs have a specific genomic structure, where they begin and end with a common highly conserved long terminal repeat (LTR) sequence. Using the 3 sequences you found in Problem #1, attempt to find the LTR sequences by performing a Local Alignment of the first and last 1000 bases from the same sequence. Repeat this for all 3 sequences using the same scoring matrix as in part one. Report the respective start and end indices from each of the three Local Alignments. Here you will need the backtracking matrix. Your answer should be 3 rows of 5 comma separated numbers of the form:\n",
    "\n",
    "       seqIndexA, startOfProximalLTR, endOfProximalLTR, startOfDistalLTR, endOfDistalLTR\n",
    "       seqIndexB, startOfProximalLTR, endOfProximalLTR, startOfDistalLTR, endOfDistalLTR\n",
    "       seqIndexC, startOfProximalLTR, endOfProximalLTR, startOfDistalLTR, endOfDistalLTR"
   ]
  },
  {
   "cell_type": "code",
   "execution_count": 38,
   "metadata": {},
   "outputs": [],
   "source": [
    "import numpy\n",
    "\n",
    "def LocalAlign(v, w, scorematrix, indel):\n",
    "    s = numpy.zeros((len(v)+1,len(w)+1), dtype=\"int32\")\n",
    "    b = numpy.zeros((len(v)+1,len(w)+1), dtype=\"int32\")\n",
    "    for i in range(1,len(v)+1):\n",
    "        for j in range(1,len(w)+1):\n",
    "            if (j == 0):\n",
    "                if (i > 0):\n",
    "                    s[i,j] = max(s[i-1,j] + indel, 0)\n",
    "                    b[i,j] = 1\n",
    "                continue\n",
    "            if (i == 0):\n",
    "                s[i,j] = max(s[i,j-1] + indel, 0)\n",
    "                b[i,j] = 2\n",
    "                continue\n",
    "            score = s[i-1,j-1] + scorematrix[v[i-1],w[j-1]]\n",
    "            vskip = s[i-1,j] + indel\n",
    "            wskip = s[i,j-1] + indel\n",
    "            s[i,j] = max(vskip, wskip, score, 0)\n",
    "            if (s[i,j] == vskip):\n",
    "                b[i,j] = 1\n",
    "            elif (s[i,j] == wskip):\n",
    "                b[i,j] = 2\n",
    "            elif (s[i,j] == score):\n",
    "                b[i,j] = 3\n",
    "            else:\n",
    "                b[i,j] = 0\n",
    "    return (s, b)"
   ]
  },
  {
   "cell_type": "code",
   "execution_count": 47,
   "metadata": {},
   "outputs": [
    {
     "name": "stdout",
     "output_type": "stream",
     "text": [
      "0\n",
      "1\n",
      "2\n"
     ]
    }
   ],
   "source": [
    "backDict = {}\n",
    "scoreDict = {}\n",
    "for i in bestIndices:\n",
    "    print(i)\n",
    "    s, b = LocalAlign(sequence[i][:1000], sequence[i][-1000:], match, -1)\n",
    "    backDict[i] = b\n",
    "    scoreDict[i] = s\n",
    "\n"
   ]
  },
  {
   "cell_type": "code",
   "execution_count": 78,
   "metadata": {},
   "outputs": [],
   "source": [
    "def Alignment(b,v,w,i,j):\n",
    "    if ((i == 0) or (j == 0)):\n",
    "        return ['','']\n",
    "    if (b[i,j] == 3):\n",
    "        result = Alignment(b,v,w,i-1,j-1)\n",
    "        result[0] += v[i-1]\n",
    "        result[1] += w[j-1]\n",
    "        return result\n",
    "    if (b[i,j] == 2):\n",
    "        result = Alignment(b,v,w,i,j-1)\n",
    "        result[0] += \"_\"\n",
    "        result[1] += w[j-1]\n",
    "        return result\n",
    "    if (b[i,j] == 1):\n",
    "        result = Alignment(b,v,w,i-1,j)\n",
    "        result[0] += v[i-1]\n",
    "        result[1] += \"_\"\n",
    "        return result"
   ]
  },
  {
   "cell_type": "code",
   "execution_count": 100,
   "metadata": {},
   "outputs": [
    {
     "name": "stdout",
     "output_type": "stream",
     "text": [
      "319\n",
      "1\n",
      "0\n",
      "7158\n",
      "319\n",
      "319\n",
      "1\n",
      "0\n",
      "7158\n",
      "319\n",
      "319\n",
      "1\n",
      "0\n",
      "7160\n",
      "319\n"
     ]
    }
   ],
   "source": [
    "for i in bestIndices:\n",
    "    b = backDict.get(i)\n",
    "    \n",
    "    result = numpy.where(s == numpy.amax(s))\n",
    "    coords = list(zip(result[0], result[1]))\n",
    "    v = sequence[i][:1000]\n",
    "    w = sequence[i][-1000:]\n",
    "    result = Alignment(b, v, w, coords[0][0], coords[0][1])\n",
    "    print(len(result[0]))\n",
    "    print(len(sequence[i][7476]))\n",
    "    print(sequence[i][:1000].find(result[0]))\n",
    "    print((len(sequence[i]) - 1000) + sequence[i][-1000:].find(result[0]))\n",
    "    print(len(result[0]))"
   ]
  },
  {
   "cell_type": "code",
   "execution_count": 4,
   "metadata": {},
   "outputs": [
    {
     "name": "stdout",
     "output_type": "stream",
     "text": [
      "True\n",
      "True\n",
      "True\n"
     ]
    }
   ],
   "source": [
    "print(sequence[0][0:319] == sequence[0][7158:7477])\n",
    "print(sequence[1][0:319] == sequence[1][7158:7477])\n",
    "print(sequence[2][0:319] == sequence[2][7160:7479])"
   ]
  },
  {
   "cell_type": "raw",
   "metadata": {
    "number": 2,
    "section": "answer"
   },
   "source": [
    "0, 0, 319, 7158, 7477\n",
    "1, 0, 319, 7158, 7477\n",
    "2, 0, 319, 7160, 7479"
   ]
  },
  {
   "cell_type": "markdown",
   "metadata": {
    "number": 3,
    "section": "problem"
   },
   "source": [
    "---\n",
    "**Problem #3:** Using the three LTRs alignments that you found in Problem #2, report a *consensus LTR sequence*."
   ]
  },
  {
   "cell_type": "code",
   "execution_count": 87,
   "metadata": {},
   "outputs": [
    {
     "name": "stdout",
     "output_type": "stream",
     "text": [
      "TGTTGCGGCCGCCAGCAGCTCGCAACGTGAACGGTTCGACTGAGAAGGCCGCTCGAGCTGTAAGAGAGGAATCTAGACGGGGCAAAAGAAGAAACGGAGCTAAGGCAATTTCATACTGATCAAAGCTCAAATTTTATTGTTGCGACACCAGTTATGAAGGAAGGGGGAGGGGACCCGATTCCCGCCGAATAATCTCTGGTCCAGTAGAAAGGTGCACGGGTGTGGCTCCGCAGGTTCCAGCAGTGGGCGTGGCAGAACGAATGAGCAGGAAGCTCCACCCCGAGCAAGCAGGTTTCAGGCTGGGGGAGGGGAGACTACA\n"
     ]
    }
   ],
   "source": [
    "seq = \"\"\n",
    "for i in range(0, 319):\n",
    "    nucleotideDict = {}\n",
    "    a = sequence[0][:1000][i]\n",
    "    b = sequence[1][:1000][i]\n",
    "    c = sequence[2][:1000][i]\n",
    "    \n",
    "    x = sequence[0][-1000:][i+681]\n",
    "    y = sequence[1][-1000:][i+681]\n",
    "    z = sequence[2][-1000:][i+681]\n",
    "    \n",
    "    nucleotideDict[a] = nucleotideDict.get(a, 0) + 1\n",
    "    nucleotideDict[b] = nucleotideDict.get(b, 0) + 1\n",
    "    nucleotideDict[c] = nucleotideDict.get(c, 0) + 1\n",
    "    nucleotideDict[x] = nucleotideDict.get(x, 0) + 1\n",
    "    nucleotideDict[y] = nucleotideDict.get(y, 0) + 1\n",
    "    nucleotideDict[z] = nucleotideDict.get(z, 0) + 1\n",
    "    \n",
    "    addNuc = \"\"\n",
    "    val = 0\n",
    "    for nuc in nucleotideDict.keys():\n",
    "        if nucleotideDict.get(nuc) > val:\n",
    "            val = nucleotideDict.get(nuc)\n",
    "            addNuc = nuc\n",
    "    \n",
    "    seq = seq + addNuc\n",
    "    \n",
    "    \n",
    "print(seq)"
   ]
  },
  {
   "cell_type": "raw",
   "metadata": {
    "number": 3,
    "section": "answer"
   },
   "source": [
    "TGTTGCGGCCGCCAGCAGCTCGCAACGTGAACGGTTCGACTGAGAAGGCCGCTCGAGCTGTAAGAGAGGAATCTAGACGGGGCAAAAGAAGAAACGGAGCTAAGGCAATTTCATACTGATCAAAGCTCAAATTTTATTGTTGCGACACCAGTTATGAAGGAAGGGGGAGGGGACCCGATTCCCGCCGAATAATCTCTGGTCCAGTAGAAAGGTGCACGGGTGTGGCTCCGCAGGTTCCAGCAGTGGGCGTGGCAGAACGAATGAGCAGGAAGCTCCACCCCGAGCAAGCAGGTTTCAGGCTGGGGGAGGGGAGACTACA"
   ]
  },
  {
   "cell_type": "markdown",
   "metadata": {
    "number": 4,
    "section": "problem"
   },
   "source": [
    "---\n",
    "**Problem #4:** Using the consensus subsequence you found in Problem #3, find a *Local Pairwise Alignment* of this consensus LTR to each of the first, and last, 1000 base pairs of the 10 original sequences and report the score for each. This should be a comma separated list of ten rows each with three numbers the following format:\n",
    "\n",
    "         1, ProximalLTRscore, DistalLTRscore\n",
    "         2, ProximalLTRscore, DistalLTRscore\n",
    "                      .\n",
    "                      .\n",
    "                      .\n",
    "         9, ProximalLTRscore, DistalLTRscore\n",
    "         10, ProximalLTRscore, DistalLTRscore\n"
   ]
  },
  {
   "cell_type": "code",
   "execution_count": 88,
   "metadata": {},
   "outputs": [
    {
     "name": "stdout",
     "output_type": "stream",
     "text": [
      "0 319 319\n",
      "1 315 315\n",
      "2 317 317\n",
      "3 294 294\n",
      "4 293 291\n",
      "5 282 284\n",
      "6 301 299\n",
      "7 293 295\n",
      "8 291 293\n",
      "9 319 317\n"
     ]
    }
   ],
   "source": [
    "for i in range(0, len(sequence)):\n",
    "    prox = sequence[i][:1000]\n",
    "    dist = sequence[i][-1000:]\n",
    "    \n",
    "    sp, bp = LocalAlign(prox, seq, match, -1)\n",
    "    sd, bd = LocalAlign(dist, seq, match, -1)\n",
    "    \n",
    "    pScore = numpy.amax(sp)\n",
    "    dScore = numpy.amax(sd)\n",
    "    \n",
    "    print(i, pScore, dScore)"
   ]
  },
  {
   "cell_type": "raw",
   "metadata": {
    "number": 4,
    "section": "answer"
   },
   "source": [
    "0, 319, 319\n",
    "1, 315, 315\n",
    "2, 317, 317\n",
    "3, 294, 294\n",
    "4, 293, 291\n",
    "5, 282, 284\n",
    "6, 301, 299\n",
    "7, 293, 295\n",
    "8, 291, 293\n",
    "9, 319, 317"
   ]
  },
  {
   "cell_type": "markdown",
   "metadata": {
    "section": "submit"
   },
   "source": [
    "---\n",
    "\n",
    "## Instructions for submitting your problem set\n",
    "\n",
    "When you are ready to submit a version of your problem set, follow the instructions below.\n",
    "\n",
    "1. Press [Save and Checkpoint] on the *File* menu of your Jupyter notebook.\n",
    "2. Press the link below, which will take you to a website for submitting your problem set.\n",
    "3. Choose the ***correct problem set number*** from the pull-down, else you might overwrite an earlier submission.\n",
    "4. Enter in your onyen and PID in the form provided, then upload your submission.\n",
    "\n",
    "Click [here to submit](http://csbio.unc.edu/mcmillan/index.py?run=PS.upload) your completed problem set\n",
    "\n",
    "**Instructions for resubmissions:**\n",
    "\n",
    "1. You may resubmit as many times as you like before the deadline. \n",
    "2. Resubmissions *always* overwrite any earlier submissions. \n",
    "3. If you resubmit after the due date, you will be warned of any penalties. \n",
    "4. Problem sets will not be regraded."
   ]
  }
 ],
 "metadata": {
  "anaconda-cloud": {},
  "kernelspec": {
   "display_name": "Python 3",
   "language": "python",
   "name": "python3"
  },
  "language_info": {
   "codemirror_mode": {
    "name": "ipython",
    "version": 3
   },
   "file_extension": ".py",
   "mimetype": "text/x-python",
   "name": "python",
   "nbconvert_exporter": "python",
   "pygments_lexer": "ipython3",
   "version": "3.7.1"
  }
 },
 "nbformat": 4,
 "nbformat_minor": 1
}
